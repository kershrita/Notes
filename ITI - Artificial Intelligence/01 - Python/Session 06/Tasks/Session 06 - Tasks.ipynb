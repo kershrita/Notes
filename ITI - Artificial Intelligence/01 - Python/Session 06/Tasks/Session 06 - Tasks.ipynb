{
 "cells": [
  {
   "cell_type": "markdown",
   "id": "b21b2e8e-035f-4c87-90df-966143ae70eb",
   "metadata": {},
   "source": [
    "- Create class person have public, private and protected data members and methods\n",
    "- then create class student inheretance from person parent class\n",
    "- and create public and protected method in student class\n",
    "- then print all details you write it"
   ]
  },
  {
   "cell_type": "code",
   "execution_count": 25,
   "id": "6e178332-39a8-4ca1-9464-e4162e41cd13",
   "metadata": {},
   "outputs": [],
   "source": [
    "class Person:\n",
    "    def __init__(self, name, age, address):\n",
    "        self.name = name\n",
    "        self._age = age\n",
    "        self.__address = address\n",
    "\n",
    "    def displayName(self):\n",
    "        print(f\"Person Name: {self.name}\")\n",
    "\n",
    "    def _displayAge(self):\n",
    "        print(f\"Person Age: {self._age}\")\n",
    "\n",
    "    def __diplayAddress(self):\n",
    "        print(f\"Person Adress: {self.__address}\")\n",
    "\n",
    "    def displayAddress(self):\n",
    "        print(self.__display_address())"
   ]
  },
  {
   "cell_type": "code",
   "execution_count": 33,
   "id": "b4765c8a-7642-44bc-91f8-537457c36d77",
   "metadata": {},
   "outputs": [],
   "source": [
    "class Student(Person):\n",
    "    def __init__(self, name, age, address, id, course, gpa):\n",
    "        super().__init__(name, age, address)\n",
    "        self.id = id\n",
    "        self.course = course\n",
    "        self.gpa = gpa\n",
    "\n",
    "    # def displayAddress(self):\n",
    "    #    print(f\"Student Address: {self.__address}\")\n",
    "\n",
    "    def _displayStudentData(self):\n",
    "        print(f\"Student ID: {self.id}\")\n",
    "        print(f\"Student Course: {self.course}\")\n",
    "        print(f\"Student GPA:{self.gpa}\")"
   ]
  },
  {
   "cell_type": "code",
   "execution_count": 34,
   "id": "2c0d6df2-309f-42c9-b1eb-3adcb38a8595",
   "metadata": {},
   "outputs": [],
   "source": [
    "s = Student(\"Samy\", 36, \"23, street\", \"S00001\", \"ITI-AI\", 3.3)"
   ]
  },
  {
   "cell_type": "code",
   "execution_count": 35,
   "id": "d12aed02-5b44-4da8-b427-a78a1f422d8a",
   "metadata": {},
   "outputs": [
    {
     "name": "stdout",
     "output_type": "stream",
     "text": [
      "Person Name: Samy\n"
     ]
    }
   ],
   "source": [
    "s.displayName()"
   ]
  },
  {
   "cell_type": "code",
   "execution_count": 36,
   "id": "8d8d4550-2782-4274-8ab0-8712305c58c8",
   "metadata": {},
   "outputs": [
    {
     "name": "stdout",
     "output_type": "stream",
     "text": [
      "Person Age: 36\n"
     ]
    }
   ],
   "source": [
    "s._displayAge()"
   ]
  },
  {
   "cell_type": "code",
   "execution_count": 37,
   "id": "8f45c1c0-e4f2-4373-85ea-9f6474920547",
   "metadata": {},
   "outputs": [
    {
     "ename": "AttributeError",
     "evalue": "'Student' object has no attribute '_Student__address'",
     "output_type": "error",
     "traceback": [
      "\u001b[1;31m---------------------------------------------------------------------------\u001b[0m",
      "\u001b[1;31mAttributeError\u001b[0m                            Traceback (most recent call last)",
      "Cell \u001b[1;32mIn[37], line 1\u001b[0m\n\u001b[1;32m----> 1\u001b[0m s\u001b[38;5;241m.\u001b[39mdisplayAddress()\n",
      "Cell \u001b[1;32mIn[33], line 9\u001b[0m, in \u001b[0;36mStudent.displayAddress\u001b[1;34m(self)\u001b[0m\n\u001b[0;32m      8\u001b[0m \u001b[38;5;28;01mdef\u001b[39;00m \u001b[38;5;21mdisplayAddress\u001b[39m(\u001b[38;5;28mself\u001b[39m):\n\u001b[1;32m----> 9\u001b[0m     \u001b[38;5;28mprint\u001b[39m(\u001b[38;5;124mf\u001b[39m\u001b[38;5;124m\"\u001b[39m\u001b[38;5;124mStudent Address: \u001b[39m\u001b[38;5;132;01m{\u001b[39;00m\u001b[38;5;28mself\u001b[39m\u001b[38;5;241m.\u001b[39m__address\u001b[38;5;132;01m}\u001b[39;00m\u001b[38;5;124m\"\u001b[39m)\n",
      "\u001b[1;31mAttributeError\u001b[0m: 'Student' object has no attribute '_Student__address'"
     ]
    }
   ],
   "source": [
    "s.displayAddress()"
   ]
  },
  {
   "cell_type": "code",
   "execution_count": 38,
   "id": "2ad03917-35fd-4cbe-83e1-24b9fba69f12",
   "metadata": {},
   "outputs": [
    {
     "name": "stdout",
     "output_type": "stream",
     "text": [
      "Student ID: S00001\n",
      "Student Course: ITI-AI\n",
      "Student GPA:3.3\n"
     ]
    }
   ],
   "source": [
    "s._displayStudentData()"
   ]
  }
 ],
 "metadata": {
  "kernelspec": {
   "display_name": "Python 3 (ipykernel)",
   "language": "python",
   "name": "python3"
  },
  "language_info": {
   "codemirror_mode": {
    "name": "ipython",
    "version": 3
   },
   "file_extension": ".py",
   "mimetype": "text/x-python",
   "name": "python",
   "nbconvert_exporter": "python",
   "pygments_lexer": "ipython3",
   "version": "3.11.7"
  }
 },
 "nbformat": 4,
 "nbformat_minor": 5
}
