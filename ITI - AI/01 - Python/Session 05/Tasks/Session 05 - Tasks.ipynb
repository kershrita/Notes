{
 "cells": [
  {
   "cell_type": "markdown",
   "id": "245374af-ed61-4235-bd42-adb158bc28e7",
   "metadata": {},
   "source": [
    "1. Write a function to count the number of vowels in a given string."
   ]
  },
  {
   "cell_type": "code",
   "execution_count": 6,
   "id": "fb39655c-2929-4631-aa1c-27955912aa08",
   "metadata": {},
   "outputs": [
    {
     "name": "stdin",
     "output_type": "stream",
     "text": [
      "Enter your text:  Ashraf Abdulkhaliq\n"
     ]
    },
    {
     "name": "stdout",
     "output_type": "stream",
     "text": [
      "Number of vowels chars: 6\n"
     ]
    }
   ],
   "source": [
    "def countVowels(text):\n",
    "    vowels = ['a', 'e', 'i', 'o', 'u']\n",
    "    c = 0\n",
    "    \n",
    "    for char in text:\n",
    "        if char.lower() in vowels:\n",
    "            c+=1\n",
    "\n",
    "    return c\n",
    "\n",
    "text = input(\"Enter your text: \")\n",
    "\n",
    "print(f\"Number of vowels chars: {countVowels(text)}\")"
   ]
  },
  {
   "cell_type": "markdown",
   "id": "a3bb0163-b502-423a-ae7f-3faf5944fbe9",
   "metadata": {},
   "source": [
    "2. Write a function to capitalize the first letter of each word in a given sentence."
   ]
  },
  {
   "cell_type": "code",
   "execution_count": 11,
   "id": "fe5716af-9400-4c8d-a00c-c56eccdff9d2",
   "metadata": {},
   "outputs": [
    {
     "name": "stdin",
     "output_type": "stream",
     "text": [
      "Enter your text:  they call me mad. all artist are mad\n"
     ]
    },
    {
     "name": "stdout",
     "output_type": "stream",
     "text": [
      "They Call Me Mad. All Artist Are Mad\n"
     ]
    }
   ],
   "source": [
    "def cap(text):\n",
    "    words = [word.capitalize() for word in text.split()]\n",
    "    return \" \".join(words)\n",
    "        \n",
    "\n",
    "text = input(\"Enter your text: \")\n",
    "\n",
    "print(cap(text))"
   ]
  },
  {
   "cell_type": "markdown",
   "id": "d64945d9-da5b-49c1-bf11-acdeeccc8a38",
   "metadata": {},
   "source": [
    "3. Create a Rectangle class with attributes \"length\" and \"width\". Implement methods to calculate the area and perimeter of the rectangle."
   ]
  },
  {
   "cell_type": "code",
   "execution_count": 16,
   "id": "2095ade9-37a2-4555-8b1a-473ce10fcdf3",
   "metadata": {},
   "outputs": [
    {
     "name": "stdin",
     "output_type": "stream",
     "text": [
      "Enter rectangle length and width:  2 8\n"
     ]
    },
    {
     "name": "stdout",
     "output_type": "stream",
     "text": [
      "Rectangle area: 16\n",
      "Rectangle perimeter: 20\n"
     ]
    }
   ],
   "source": [
    "class Rectangle():\n",
    "    def __init__(self, length, width):\n",
    "        self.length = length\n",
    "        self.width = width\n",
    "\n",
    "    def calc_area(self):\n",
    "        return self.length * self.width\n",
    "\n",
    "    def calc_perimeter(self):\n",
    "        return 2 * (self.length + self.width)\n",
    "\n",
    "length, width = map(int, input(\"Enter rectangle length and width: \").split())\n",
    "rect = Rectangle(length, width)\n",
    "\n",
    "print(f\"Rectangle area: {rect.calc_area()}\")\n",
    "print(f\"Rectangle perimeter: {rect.calc_perimeter()}\")"
   ]
  },
  {
   "cell_type": "code",
   "execution_count": null,
   "id": "c3d56487-ca79-454c-8754-01faf00f9ffb",
   "metadata": {},
   "outputs": [],
   "source": []
  }
 ],
 "metadata": {
  "kernelspec": {
   "display_name": "Python 3 (ipykernel)",
   "language": "python",
   "name": "python3"
  },
  "language_info": {
   "codemirror_mode": {
    "name": "ipython",
    "version": 3
   },
   "file_extension": ".py",
   "mimetype": "text/x-python",
   "name": "python",
   "nbconvert_exporter": "python",
   "pygments_lexer": "ipython3",
   "version": "3.11.7"
  }
 },
 "nbformat": 4,
 "nbformat_minor": 5
}
