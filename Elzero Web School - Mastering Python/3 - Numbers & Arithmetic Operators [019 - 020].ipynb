{
 "cells": [
  {
   "cell_type": "code",
   "execution_count": 11,
   "metadata": {},
   "outputs": [
    {
     "name": "stdout",
     "output_type": "stream",
     "text": [
      "<class 'int'>\n",
      "<class 'float'>\n",
      "<class 'complex'>\n"
     ]
    }
   ],
   "source": [
    "# Assignment 1\n",
    "\n",
    "print(type(1))\n",
    "print(type(1.5))\n",
    "print(type(1+3j))"
   ]
  },
  {
   "cell_type": "code",
   "execution_count": 12,
   "metadata": {},
   "outputs": [
    {
     "name": "stdout",
     "output_type": "stream",
     "text": [
      "Imaginary Part : 2.0\n",
      "Real Part : 1.0\n"
     ]
    }
   ],
   "source": [
    "# Assignment 2\n",
    "\n",
    "MyComplexNumber = 1+2j\n",
    "print(f\"Imaginary Part : {MyComplexNumber.imag}\")\n",
    "print(f\"Real Part : {MyComplexNumber.real}\")\n",
    "\n",
    "# Output:\n",
    "# Print Imaginary Part Here\n",
    "# Print Real Part Here"
   ]
  },
  {
   "cell_type": "code",
   "execution_count": 13,
   "metadata": {},
   "outputs": [
    {
     "name": "stdout",
     "output_type": "stream",
     "text": [
      "10.0000000000\n"
     ]
    }
   ],
   "source": [
    "# Assignment 3\n",
    "\n",
    "num = 10\n",
    "print(\"{:0.10f}\".format(num))\n",
    "\n",
    "# Output:\n",
    "# 10.0000000000"
   ]
  },
  {
   "cell_type": "code",
   "execution_count": 14,
   "metadata": {},
   "outputs": [
    {
     "name": "stdout",
     "output_type": "stream",
     "text": [
      "159\n",
      "<class 'int'>\n"
     ]
    }
   ],
   "source": [
    "# Assignment 4\n",
    "\n",
    "num = 159.650\n",
    "num = int(num)\n",
    "\n",
    "print(num)\n",
    "print(type(num))\n",
    "\n",
    "# Output:\n",
    "# 159\n",
    "# <class 'int'>"
   ]
  },
  {
   "cell_type": "code",
   "execution_count": 16,
   "metadata": {},
   "outputs": [
    {
     "name": "stdout",
     "output_type": "stream",
     "text": [
      "-15\n",
      "1500\n",
      "1\n",
      "10\n",
      "4\n"
     ]
    }
   ],
   "source": [
    "# Assignment 5\n",
    "\n",
    "print(100-115)\n",
    "print(50*30)\n",
    "print(21%4)\n",
    "print(110//11)\n",
    "print(97//20)\n",
    "\n",
    "# Output:\n",
    "# 100 ? 115 = -15\n",
    "# 50 ? 30 = 1500\n",
    "# 21 ? 4 = 1\n",
    "# 110 ? 11 = 10\n",
    "# 97 ? 20 = 4"
   ]
  },
  {
   "cell_type": "code",
   "execution_count": null,
   "metadata": {},
   "outputs": [],
   "source": []
  }
 ],
 "metadata": {
  "kernelspec": {
   "display_name": "Python 3",
   "language": "python",
   "name": "python3"
  },
  "language_info": {
   "codemirror_mode": {
    "name": "ipython",
    "version": 3
   },
   "file_extension": ".py",
   "mimetype": "text/x-python",
   "name": "python",
   "nbconvert_exporter": "python",
   "pygments_lexer": "ipython3",
   "version": "3.7.4"
  }
 },
 "nbformat": 4,
 "nbformat_minor": 2
}
