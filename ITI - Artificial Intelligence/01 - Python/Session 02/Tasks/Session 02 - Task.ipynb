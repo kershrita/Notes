{
 "cells": [
  {
   "cell_type": "markdown",
   "id": "a98a2384-0556-4b37-8c48-6227db9d2bda",
   "metadata": {},
   "source": [
    "1. Write a program that reads an integer salary then:\n",
    "\n",
    "\tIf salary < 1000,\n",
    "\t- Print you are poor\n",
    "\telif salary greater than or equal to 1000 and less than 20000\n",
    "\t- Print good salary\n",
    "\telif salary greater than or equal to 20000\n",
    "\t- Print you are rich"
   ]
  },
  {
   "cell_type": "code",
   "execution_count": 1,
   "id": "c6d7a42e-c7e3-4477-9655-03e06135a759",
   "metadata": {},
   "outputs": [
    {
     "name": "stdin",
     "output_type": "stream",
     "text": [
      "Enter your salary:  19000\n"
     ]
    },
    {
     "name": "stdout",
     "output_type": "stream",
     "text": [
      "GOOD salary\n"
     ]
    }
   ],
   "source": [
    "salary = int(input(\"Enter your salary: \"))\n",
    "\n",
    "if salary < 1000:\n",
    "    print(\"You are POOR\")\n",
    "elif 1000 <= salary < 20000:\n",
    "    print(\"GOOD salary\")\n",
    "elif salary >= 20000:\n",
    "    print(\"You are RICH\")"
   ]
  },
  {
   "cell_type": "markdown",
   "id": "b7f96c54-1fae-4741-885f-c324e9864df2",
   "metadata": {},
   "source": [
    "2. Write a Python program that receives the age of the user and display whether he/she can drive a car. If the user is above 18 years old, he/she can drive.\n"
   ]
  },
  {
   "cell_type": "code",
   "execution_count": 2,
   "id": "3802350e-1aef-460f-aba2-088b6f25d66a",
   "metadata": {},
   "outputs": [
    {
     "name": "stdin",
     "output_type": "stream",
     "text": [
      "Enter your age:  21\n"
     ]
    },
    {
     "name": "stdout",
     "output_type": "stream",
     "text": [
      "Can drive a car\n"
     ]
    }
   ],
   "source": [
    "age = int(input(\"Enter your age: \"))\n",
    "\n",
    "if age > 18:\n",
    "    print(\"Can drive a car\")\n",
    "else:\n",
    "    print(\"Can't drive a car\")"
   ]
  },
  {
   "cell_type": "markdown",
   "id": "7b912218-6d1f-4181-ae7e-160f4977c622",
   "metadata": {},
   "source": [
    "3. Write a Python program that finds the minimum of three values a , b and c.\n"
   ]
  },
  {
   "cell_type": "code",
   "execution_count": 5,
   "id": "26b985f2-becc-401d-9b34-af775c5a3481",
   "metadata": {},
   "outputs": [
    {
     "name": "stdin",
     "output_type": "stream",
     "text": [
      "Enter 3 numbers:  6 8 0\n"
     ]
    },
    {
     "name": "stdout",
     "output_type": "stream",
     "text": [
      "0\n"
     ]
    }
   ],
   "source": [
    "a, b, c = map(int, input(\"Enter 3 numbers: \").split())\n",
    "print(min(a, b, c))"
   ]
  },
  {
   "cell_type": "markdown",
   "id": "24cd66b7-a590-4d3b-bb6a-c4306109992b",
   "metadata": {},
   "source": [
    "4. Write a Python program that divides two numbers together and display the result. However, if the second number is a zero then the calculation can't be done as dividing a number by zero gives a result of ‘infinity’."
   ]
  },
  {
   "cell_type": "code",
   "execution_count": 7,
   "id": "de1a8b3c-022e-4bfe-ba19-274cabc6e66a",
   "metadata": {},
   "outputs": [
    {
     "name": "stdin",
     "output_type": "stream",
     "text": [
      "Enter two numbers:  3 0\n"
     ]
    },
    {
     "name": "stdout",
     "output_type": "stream",
     "text": [
      "infinty\n"
     ]
    }
   ],
   "source": [
    "n1, n2 = map(int, input(\"Enter two numbers: \").split())\n",
    "if n2 != 0:\n",
    "    print(n1/n2)\n",
    "else:\n",
    "    print(\"infinty\")"
   ]
  },
  {
   "cell_type": "markdown",
   "id": "8d4d4803-0bd5-4de6-94b1-c7ea324b1a81",
   "metadata": {},
   "source": [
    "5. We need to print 0,3,6,9,12 using for loop"
   ]
  },
  {
   "cell_type": "code",
   "execution_count": 9,
   "id": "b70bd548-8822-497a-bc55-355b3e7ae0fb",
   "metadata": {},
   "outputs": [
    {
     "name": "stdout",
     "output_type": "stream",
     "text": [
      "0 3 6 9 12 "
     ]
    }
   ],
   "source": [
    "for i in range(0, 13, 3):\n",
    "    print(i, end=\" \")"
   ]
  },
  {
   "cell_type": "markdown",
   "id": "2d4c1e7e-772d-427a-a1a7-2392c808a177",
   "metadata": {},
   "source": [
    "6. We need to print 0 ,3 ,6 ,9 ,12 and index of positions using for loop -> hint: enumerate function "
   ]
  },
  {
   "cell_type": "code",
   "execution_count": 10,
   "id": "da96ab29-37cf-4e77-a6bb-b405e028ce69",
   "metadata": {},
   "outputs": [
    {
     "name": "stdout",
     "output_type": "stream",
     "text": [
      "idx: 0, value: 0\n",
      "idx: 1, value: 3\n",
      "idx: 2, value: 6\n",
      "idx: 3, value: 9\n",
      "idx: 4, value: 12\n"
     ]
    }
   ],
   "source": [
    "for idx, val in enumerate(range(0, 13, 3)):\n",
    "    print(f\"idx: {idx}, value: {val}\")"
   ]
  },
  {
   "cell_type": "markdown",
   "id": "37aa11e2-1302-426f-89d1-af4c1b391fea",
   "metadata": {},
   "source": [
    "7. Given a list of numbers. write a program to turn every item of a list into its square\n",
    "\t- lst = [1, 2, 3, 4, 5, 6, 7]\n",
    "\t- result = [1, 4, 9, 16, 25, 36, 49] "
   ]
  },
  {
   "cell_type": "code",
   "execution_count": 11,
   "id": "12944364-5960-4dc8-b29f-a660aa24d5ca",
   "metadata": {},
   "outputs": [
    {
     "name": "stdout",
     "output_type": "stream",
     "text": [
      "1 4 9 16 25 36 49 "
     ]
    }
   ],
   "source": [
    "lst = [1, 2, 3, 4, 5, 6, 7]\n",
    "for i in lst:\n",
    "    print(i*i, end=\" \")"
   ]
  },
  {
   "cell_type": "markdown",
   "id": "d14ef2bf-2290-446a-8bf1-0b29aa794a81",
   "metadata": {},
   "source": [
    "8.  write a program to Concatenate two lists"
   ]
  },
  {
   "cell_type": "code",
   "execution_count": 13,
   "id": "fc8c4713-55bc-414b-af73-c7f92ddcf095",
   "metadata": {},
   "outputs": [
    {
     "name": "stdout",
     "output_type": "stream",
     "text": [
      "['Ashraf', 3, False, 3.5, 44, True, 'Salah', 93.7]\n"
     ]
    }
   ],
   "source": [
    "# Solution 1\n",
    "lst1 = [\"Ashraf\", 3, False, 3.5]\n",
    "lst2 = [44, True, \"Salah\", 93.7]\n",
    "\n",
    "lst1.extend(lst2)\n",
    "print(lst1)"
   ]
  },
  {
   "cell_type": "code",
   "execution_count": 14,
   "id": "4fe6d5cc-6f05-4eb4-9d1e-3ff47f20180c",
   "metadata": {},
   "outputs": [
    {
     "name": "stdout",
     "output_type": "stream",
     "text": [
      "['Ashraf', 3, False, 3.5, 44, True, 'Salah', 93.7]\n"
     ]
    }
   ],
   "source": [
    "# Solution 2\n",
    "lst1 = [\"Ashraf\", 3, False, 3.5]\n",
    "lst2 = [44, True, \"Salah\", 93.7]\n",
    "\n",
    "lst1 += lst2\n",
    "print(lst1)"
   ]
  },
  {
   "cell_type": "markdown",
   "id": "771b99cb-c86e-401c-b465-8aee216f37e7",
   "metadata": {},
   "source": [
    "9. write a program to Reverse the tuple\n"
   ]
  },
  {
   "cell_type": "code",
   "execution_count": 22,
   "id": "92b5b248-d03f-4bac-9b4c-e4772bbb481f",
   "metadata": {},
   "outputs": [
    {
     "name": "stdout",
     "output_type": "stream",
     "text": [
      "3.55 Sa 0 5 True 6 Ashraf \n",
      "3.55 Sa 0 5 True 6 Ashraf "
     ]
    }
   ],
   "source": [
    "tup = (\"Ashraf\", 6, True, 5, 0, \"Sa\", 3.55)\n",
    "for i in reversed(tup):\n",
    "    print(i, end=\" \")\n",
    "\n",
    "print(\"\")\n",
    "# Another solution\n",
    "for i in tup[::-1]:\n",
    "    print(i, end=\" \")"
   ]
  },
  {
   "cell_type": "markdown",
   "id": "755dec91-6b04-497e-b174-c34b178860f0",
   "metadata": {},
   "source": [
    "10. Convert two lists into a dictionary\n",
    " \t- keys = ['Ten', 'Twenty', 'Thirty']\n",
    " \t- values = [10, 20, 30]"
   ]
  },
  {
   "cell_type": "code",
   "execution_count": 24,
   "id": "c603b833-c9ce-424f-bc53-daf17f190e57",
   "metadata": {},
   "outputs": [
    {
     "name": "stdout",
     "output_type": "stream",
     "text": [
      "{'Ten': 10, 'Twenty': 20, 'Thirty': 30}\n"
     ]
    }
   ],
   "source": [
    "keys = ['Ten', 'Twenty', 'Thirty']\n",
    "values = [10, 20, 30]\n",
    "\n",
    "dic = {}\n",
    "for idx, key in enumerate(keys):\n",
    "    dic[key] = values[idx]\n",
    "\n",
    "print(dic)"
   ]
  },
  {
   "cell_type": "code",
   "execution_count": null,
   "id": "6c2bfe4e-66d2-4dca-b556-5f9176bddd84",
   "metadata": {},
   "outputs": [],
   "source": []
  }
 ],
 "metadata": {
  "kernelspec": {
   "display_name": "Python 3 (ipykernel)",
   "language": "python",
   "name": "python3"
  },
  "language_info": {
   "codemirror_mode": {
    "name": "ipython",
    "version": 3
   },
   "file_extension": ".py",
   "mimetype": "text/x-python",
   "name": "python",
   "nbconvert_exporter": "python",
   "pygments_lexer": "ipython3",
   "version": "3.11.7"
  }
 },
 "nbformat": 4,
 "nbformat_minor": 5
}
