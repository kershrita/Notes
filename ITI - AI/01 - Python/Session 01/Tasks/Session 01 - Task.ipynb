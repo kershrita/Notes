{
 "cells": [
  {
   "cell_type": "markdown",
   "id": "56a15943-f609-4d11-a4a1-c681abfdb7f5",
   "metadata": {},
   "source": [
    "1. write 5 different variables and check for it's data types using type() function"
   ]
  },
  {
   "cell_type": "code",
   "execution_count": 1,
   "id": "413f09fc-4916-436d-8b8c-c5e01de64c53",
   "metadata": {},
   "outputs": [
    {
     "name": "stdout",
     "output_type": "stream",
     "text": [
      "<class 'int'>\n",
      "<class 'float'>\n",
      "<class 'str'>\n",
      "<class 'bool'>\n",
      "<class 'str'>\n"
     ]
    }
   ],
   "source": [
    "a = 1\n",
    "b = 0.7\n",
    "c = 'Python'\n",
    "d = True\n",
    "e = '6'\n",
    "\n",
    "print(type(a))\n",
    "print(type(b))\n",
    "print(type(c))\n",
    "print(type(d))\n",
    "print(type(e))"
   ]
  },
  {
   "cell_type": "markdown",
   "id": "b4fb0396-577d-4ffd-a111-9f9e30459d8b",
   "metadata": {},
   "source": [
    "2. write 3 variable and take it in one line using split() function and print it"
   ]
  },
  {
   "cell_type": "code",
   "execution_count": 2,
   "id": "e6bd9e5a-9f43-45d1-837e-88f2b8db75e1",
   "metadata": {},
   "outputs": [
    {
     "name": "stdin",
     "output_type": "stream",
     "text": [
      "Enter your name Ashraf Abdulkhaliq Bassuoni\n"
     ]
    },
    {
     "name": "stdout",
     "output_type": "stream",
     "text": [
      "\n",
      "First Name: Ashraf\n",
      "Middle Name: Abdulkhaliq\n",
      "Last Name: Bassuoni\n",
      "\n"
     ]
    }
   ],
   "source": [
    "a, b, c = input(\"Enter your name\").split()\n",
    "print(f\"\"\"\n",
    "First Name: {a}\n",
    "Middle Name: {b}\n",
    "Last Name: {c}\n",
    "\"\"\")"
   ]
  },
  {
   "cell_type": "markdown",
   "id": "10df9085-fa71-4ad8-b9c9-8a7da31023c3",
   "metadata": {},
   "source": [
    "3. write 3 integer variables and take it in one line and print it."
   ]
  },
  {
   "cell_type": "code",
   "execution_count": 4,
   "id": "31d2fae2-bf04-43eb-8152-7e07336e5617",
   "metadata": {},
   "outputs": [
    {
     "name": "stdin",
     "output_type": "stream",
     "text": [
      "Enter 3 numbers:  6 3 4\n"
     ]
    },
    {
     "name": "stdout",
     "output_type": "stream",
     "text": [
      "6 3 4\n",
      "<class 'int'> <class 'int'> <class 'int'>\n"
     ]
    }
   ],
   "source": [
    "a, b, c = map(int, input(\"Enter 3 numbers: \").split())\n",
    "print(a, b, c)\n",
    "print(type(a), type(b), type(c))"
   ]
  },
  {
   "cell_type": "markdown",
   "id": "51c3449c-6dd1-4124-9c0b-bc0e5cd064d3",
   "metadata": {},
   "source": [
    "4. write program take number from user then convert it to string \" casting \" then print length of this string using len() function"
   ]
  },
  {
   "cell_type": "code",
   "execution_count": 5,
   "id": "c7de9295-9844-404e-9e86-8e2cc2a61518",
   "metadata": {},
   "outputs": [
    {
     "name": "stdin",
     "output_type": "stream",
     "text": [
      "Enter number:  6515151651\n"
     ]
    },
    {
     "name": "stdout",
     "output_type": "stream",
     "text": [
      "10\n"
     ]
    }
   ],
   "source": [
    "s = int(input(\"Enter number: \"))\n",
    "print(len(str(s)))"
   ]
  },
  {
   "cell_type": "markdown",
   "id": "e9315656-f6a1-446b-8e94-960ee71c4806",
   "metadata": {},
   "source": [
    "5. take integer multiple number in one line using map and split then print maximum and minimum number from it using min and max function"
   ]
  },
  {
   "cell_type": "code",
   "execution_count": 12,
   "id": "96998195-2228-4282-9de2-cee4956e3960",
   "metadata": {},
   "outputs": [
    {
     "name": "stdin",
     "output_type": "stream",
     "text": [
      "Enter your numbers:  100 500 300\n"
     ]
    },
    {
     "name": "stdout",
     "output_type": "stream",
     "text": [
      "\n",
      "Max Value: 500\n",
      "Min Value: 100\n",
      "\n"
     ]
    }
   ],
   "source": [
    "x, y, z = map(int, input(\"Enter your numbers: \").split())\n",
    "print(f\"\"\"\n",
    "Max Value: {max(x, y, z)}\n",
    "Min Value: {min(x, y, z)}\n",
    "\"\"\")"
   ]
  }
 ],
 "metadata": {
  "kernelspec": {
   "display_name": "Python 3 (ipykernel)",
   "language": "python",
   "name": "python3"
  },
  "language_info": {
   "codemirror_mode": {
    "name": "ipython",
    "version": 3
   },
   "file_extension": ".py",
   "mimetype": "text/x-python",
   "name": "python",
   "nbconvert_exporter": "python",
   "pygments_lexer": "ipython3",
   "version": "3.11.7"
  }
 },
 "nbformat": 4,
 "nbformat_minor": 5
}
