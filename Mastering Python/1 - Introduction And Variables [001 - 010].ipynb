{
 "cells": [
  {
   "cell_type": "code",
   "execution_count": 1,
   "metadata": {},
   "outputs": [],
   "source": [
    "# Assignment 1\n",
    "\n",
    "# ------------------------------------------------\n",
    "# ------------------- My Task --------------------\n",
    "# My name is Ashraf Abdulkhaliq, 19 years old\n",
    "# that's my first comment cell ordered from me\n",
    "# i hope that's a greatful multiple line comment\n",
    "# ------------------------------------------------"
   ]
  },
  {
   "cell_type": "code",
   "execution_count": 2,
   "metadata": {},
   "outputs": [],
   "source": [
    "# Assignment 2\n",
    "\n",
    "myName = \"Ashraf Abdulkhaliq\"\n",
    "myAge = \"19\"\n",
    "myContry = \"Egypt\""
   ]
  },
  {
   "cell_type": "code",
   "execution_count": 6,
   "metadata": {},
   "outputs": [
    {
     "name": "stdout",
     "output_type": "stream",
     "text": [
      "Name: Ashraf Abdulkhaliq\n",
      "Age: 19\n",
      "Contry: Egypt\n",
      "-------------------------\n",
      "Name: Ashraf Abdulkhaliq\n",
      "Age: 19\n",
      "Contry: Egypt\n"
     ]
    }
   ],
   "source": [
    "# Assignment 3\n",
    "\n",
    "print(\"Name: \" + myName + \"\\nAge: \" + myAge + \"\\nContry: \" + myContry)\n",
    "\n",
    "print(\"-\"*25)\n",
    "\n",
    "print(f\"Name: {myName}\")\n",
    "print(f\"Age: {myAge}\")\n",
    "print(f\"Contry: {myContry}\")"
   ]
  },
  {
   "cell_type": "code",
   "execution_count": 8,
   "metadata": {},
   "outputs": [
    {
     "name": "stdout",
     "output_type": "stream",
     "text": [
      "Hello, My Name Is Ashraf Abdulkhaliq And Iam 19 Years Old And I Live In Egypt.\n"
     ]
    }
   ],
   "source": [
    "# Assignment 4\n",
    "\n",
    "print(\"Hello, My Name Is \" + myName + \" And Iam \" + myAge + \" Years Old And I Live In \" + myContry + \".\")"
   ]
  },
  {
   "cell_type": "code",
   "execution_count": 9,
   "metadata": {},
   "outputs": [
    {
     "name": "stdout",
     "output_type": "stream",
     "text": [
      "<class 'str'>\n",
      "<class 'str'>\n",
      "<class 'str'>\n"
     ]
    }
   ],
   "source": [
    "# Assignment 5\n",
    "\n",
    "print(type(myName))\n",
    "print(type(myAge))\n",
    "print(type(myContry))"
   ]
  },
  {
   "cell_type": "code",
   "execution_count": null,
   "metadata": {},
   "outputs": [],
   "source": []
  }
 ],
 "metadata": {
  "kernelspec": {
   "display_name": "Python 3",
   "language": "python",
   "name": "python3"
  },
  "language_info": {
   "codemirror_mode": {
    "name": "ipython",
    "version": 3
   },
   "file_extension": ".py",
   "mimetype": "text/x-python",
   "name": "python",
   "nbconvert_exporter": "python",
   "pygments_lexer": "ipython3",
   "version": "3.7.4"
  }
 },
 "nbformat": 4,
 "nbformat_minor": 2
}
