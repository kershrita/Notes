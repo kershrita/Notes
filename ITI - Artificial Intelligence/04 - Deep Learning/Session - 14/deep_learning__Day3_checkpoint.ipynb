{
  "cells": [
    {
      "cell_type": "code",
      "execution_count": null,
      "metadata": {
        "id": "FPy3TVUSiEBV"
      },
      "outputs": [],
      "source": [
        "import pandas as pd\n",
        "import numpy as np"
      ]
    },
    {
      "cell_type": "code",
      "execution_count": null,
      "metadata": {
        "colab": {
          "base_uri": "https://localhost:8080/"
        },
        "id": "-aR6TAPtlDjG",
        "outputId": "73765032-e44f-4389-a554-6e4b713e7c87"
      },
      "outputs": [
        {
          "name": "stdout",
          "output_type": "stream",
          "text": [
            "TensorFlow:  2.7.0\n",
            "Keras 2.7.0\n",
            "numpy : 1.19.5\n"
          ]
        }
      ],
      "source": [
        "# Testing your installation\n",
        "import tensorflow as tf\n",
        "from tensorflow import keras\n",
        "\n",
        "\n",
        "print('TensorFlow: ', tf.__version__)\n",
        "print('Keras', keras.__version__)\n",
        "print(\"numpy :\" , np.__version__)"
      ]
    },
    {
      "cell_type": "code",
      "execution_count": null,
      "metadata": {
        "id": "tcxwRbSjlKMJ"
      },
      "outputs": [],
      "source": [
        "df = pd.read_csv(\"/content/pima-indians-diabetes.csv - pima-indians-diabetes.csv.csv\")"
      ]
    },
    {
      "cell_type": "code",
      "execution_count": null,
      "metadata": {
        "colab": {
          "base_uri": "https://localhost:8080/",
          "height": 112
        },
        "id": "QYuZITqvliID",
        "outputId": "ab03ba7c-9912-4283-9cbb-1e0c663f7abf"
      },
      "outputs": [
        {
          "data": {
            "text/html": [
              "<div>\n",
              "<style scoped>\n",
              "    .dataframe tbody tr th:only-of-type {\n",
              "        vertical-align: middle;\n",
              "    }\n",
              "\n",
              "    .dataframe tbody tr th {\n",
              "        vertical-align: top;\n",
              "    }\n",
              "\n",
              "    .dataframe thead th {\n",
              "        text-align: right;\n",
              "    }\n",
              "</style>\n",
              "<table border=\"1\" class=\"dataframe\">\n",
              "  <thead>\n",
              "    <tr style=\"text-align: right;\">\n",
              "      <th></th>\n",
              "      <th>6</th>\n",
              "      <th>148</th>\n",
              "      <th>72</th>\n",
              "      <th>35</th>\n",
              "      <th>0</th>\n",
              "      <th>33.6</th>\n",
              "      <th>0.627</th>\n",
              "      <th>50</th>\n",
              "      <th>1</th>\n",
              "    </tr>\n",
              "  </thead>\n",
              "  <tbody>\n",
              "    <tr>\n",
              "      <th>0</th>\n",
              "      <td>1</td>\n",
              "      <td>85</td>\n",
              "      <td>66</td>\n",
              "      <td>29</td>\n",
              "      <td>0</td>\n",
              "      <td>26.6</td>\n",
              "      <td>0.351</td>\n",
              "      <td>31</td>\n",
              "      <td>0</td>\n",
              "    </tr>\n",
              "    <tr>\n",
              "      <th>1</th>\n",
              "      <td>8</td>\n",
              "      <td>183</td>\n",
              "      <td>64</td>\n",
              "      <td>0</td>\n",
              "      <td>0</td>\n",
              "      <td>23.3</td>\n",
              "      <td>0.672</td>\n",
              "      <td>32</td>\n",
              "      <td>1</td>\n",
              "    </tr>\n",
              "  </tbody>\n",
              "</table>\n",
              "</div>"
            ],
            "text/plain": [
              "   6  148  72  35  0  33.6  0.627  50  1\n",
              "0  1   85  66  29  0  26.6  0.351  31  0\n",
              "1  8  183  64   0  0  23.3  0.672  32  1"
            ]
          },
          "execution_count": 69,
          "metadata": {},
          "output_type": "execute_result"
        }
      ],
      "source": [
        "df.head(2)"
      ]
    },
    {
      "cell_type": "code",
      "execution_count": null,
      "metadata": {
        "id": "iVgZkfaYlmLB"
      },
      "outputs": [],
      "source": [
        "df.columns = ['No of times pregnant' , 'Plasma glucose concentration' ,'Diastolic blood pressure (mm Hg)' , 'Triceps skin fold thickness (mm)'\n",
        ", '2-Hour serum insulin (mu U/ml)' , 'Body mass index ' , 'Diabetes pedigree function' , 'Age' ,'Class variable' ]"
      ]
    },
    {
      "cell_type": "code",
      "execution_count": null,
      "metadata": {
        "colab": {
          "base_uri": "https://localhost:8080/",
          "height": 130
        },
        "id": "pgIFEshrlxXF",
        "outputId": "e80b0542-cac9-4629-d24c-1a3b294832ac"
      },
      "outputs": [
        {
          "data": {
            "text/html": [
              "<div>\n",
              "<style scoped>\n",
              "    .dataframe tbody tr th:only-of-type {\n",
              "        vertical-align: middle;\n",
              "    }\n",
              "\n",
              "    .dataframe tbody tr th {\n",
              "        vertical-align: top;\n",
              "    }\n",
              "\n",
              "    .dataframe thead th {\n",
              "        text-align: right;\n",
              "    }\n",
              "</style>\n",
              "<table border=\"1\" class=\"dataframe\">\n",
              "  <thead>\n",
              "    <tr style=\"text-align: right;\">\n",
              "      <th></th>\n",
              "      <th>No of times pregnant</th>\n",
              "      <th>Plasma glucose concentration</th>\n",
              "      <th>Diastolic blood pressure (mm Hg)</th>\n",
              "      <th>Triceps skin fold thickness (mm)</th>\n",
              "      <th>2-Hour serum insulin (mu U/ml)</th>\n",
              "      <th>Body mass index</th>\n",
              "      <th>Diabetes pedigree function</th>\n",
              "      <th>Age</th>\n",
              "      <th>Class variable</th>\n",
              "    </tr>\n",
              "  </thead>\n",
              "  <tbody>\n",
              "    <tr>\n",
              "      <th>0</th>\n",
              "      <td>1</td>\n",
              "      <td>85</td>\n",
              "      <td>66</td>\n",
              "      <td>29</td>\n",
              "      <td>0</td>\n",
              "      <td>26.6</td>\n",
              "      <td>0.351</td>\n",
              "      <td>31</td>\n",
              "      <td>0</td>\n",
              "    </tr>\n",
              "    <tr>\n",
              "      <th>1</th>\n",
              "      <td>8</td>\n",
              "      <td>183</td>\n",
              "      <td>64</td>\n",
              "      <td>0</td>\n",
              "      <td>0</td>\n",
              "      <td>23.3</td>\n",
              "      <td>0.672</td>\n",
              "      <td>32</td>\n",
              "      <td>1</td>\n",
              "    </tr>\n",
              "  </tbody>\n",
              "</table>\n",
              "</div>"
            ],
            "text/plain": [
              "   No of times pregnant  Plasma glucose concentration  ...  Age  Class variable\n",
              "0                     1                            85  ...   31               0\n",
              "1                     8                           183  ...   32               1\n",
              "\n",
              "[2 rows x 9 columns]"
            ]
          },
          "execution_count": 71,
          "metadata": {},
          "output_type": "execute_result"
        }
      ],
      "source": [
        "df.head(2)"
      ]
    },
    {
      "cell_type": "code",
      "execution_count": null,
      "metadata": {
        "colab": {
          "base_uri": "https://localhost:8080/"
        },
        "id": "dCIjgttgmrYC",
        "outputId": "1a4e61c5-baab-4afb-a31a-83fea75f4a64"
      },
      "outputs": [
        {
          "data": {
            "text/plain": [
              "No of times pregnant                0\n",
              "Plasma glucose concentration        0\n",
              "Diastolic blood pressure (mm Hg)    0\n",
              "Triceps skin fold thickness (mm)    0\n",
              "2-Hour serum insulin (mu U/ml)      0\n",
              "Body mass index                     0\n",
              "Diabetes pedigree function          0\n",
              "Age                                 0\n",
              "Class variable                      0\n",
              "dtype: int64"
            ]
          },
          "execution_count": 72,
          "metadata": {},
          "output_type": "execute_result"
        }
      ],
      "source": [
        "df.isnull().sum()#there is no null values"
      ]
    },
    {
      "cell_type": "code",
      "execution_count": null,
      "metadata": {
        "colab": {
          "base_uri": "https://localhost:8080/"
        },
        "id": "SXtRFemUm0bw",
        "outputId": "0082e4a2-2ca0-4381-8980-144d598438a1"
      },
      "outputs": [
        {
          "data": {
            "text/plain": [
              "767"
            ]
          },
          "execution_count": 73,
          "metadata": {},
          "output_type": "execute_result"
        }
      ],
      "source": [
        "df.value_counts().sum()#no categoricl data"
      ]
    },
    {
      "cell_type": "code",
      "execution_count": null,
      "metadata": {
        "id": "c9iU6wgjoTjg"
      },
      "outputs": [],
      "source": [
        "from sklearn.model_selection import train_test_split"
      ]
    },
    {
      "cell_type": "code",
      "execution_count": null,
      "metadata": {
        "id": "T84nE_QBp0gb"
      },
      "outputs": [],
      "source": [
        "x = x = df.drop('Class variable', axis=1)\n",
        "y = df['Class variable']"
      ]
    },
    {
      "cell_type": "code",
      "execution_count": null,
      "metadata": {
        "colab": {
          "base_uri": "https://localhost:8080/"
        },
        "id": "1lC7H88mpnvD",
        "outputId": "2d452f99-758b-4279-ce0c-756721b62c5b"
      },
      "outputs": [
        {
          "name": "stdout",
          "output_type": "stream",
          "text": [
            "x_train shape:  (613, 8)\n",
            "x_test shape:  (154, 8)\n",
            "y_train shape:  (613,)\n",
            "y_test shape:  (154,)\n"
          ]
        }
      ],
      "source": [
        "x_train, x_test, y_train, y_test = train_test_split(x, y, test_size=0.2, random_state=42 )\n",
        "print('x_train shape: ', x_train.shape)\n",
        "print('x_test shape: ', x_test.shape)\n",
        "print('y_train shape: ', y_train.shape)\n",
        "print('y_test shape: ', y_test.shape)"
      ]
    },
    {
      "cell_type": "code",
      "execution_count": null,
      "metadata": {
        "colab": {
          "base_uri": "https://localhost:8080/",
          "height": 130
        },
        "id": "ocSJ5gVQpuYj",
        "outputId": "bfd97f12-57d6-4f36-fd19-9216c00b821f"
      },
      "outputs": [
        {
          "data": {
            "text/html": [
              "<div>\n",
              "<style scoped>\n",
              "    .dataframe tbody tr th:only-of-type {\n",
              "        vertical-align: middle;\n",
              "    }\n",
              "\n",
              "    .dataframe tbody tr th {\n",
              "        vertical-align: top;\n",
              "    }\n",
              "\n",
              "    .dataframe thead th {\n",
              "        text-align: right;\n",
              "    }\n",
              "</style>\n",
              "<table border=\"1\" class=\"dataframe\">\n",
              "  <thead>\n",
              "    <tr style=\"text-align: right;\">\n",
              "      <th></th>\n",
              "      <th>No of times pregnant</th>\n",
              "      <th>Plasma glucose concentration</th>\n",
              "      <th>Diastolic blood pressure (mm Hg)</th>\n",
              "      <th>Triceps skin fold thickness (mm)</th>\n",
              "      <th>2-Hour serum insulin (mu U/ml)</th>\n",
              "      <th>Body mass index</th>\n",
              "      <th>Diabetes pedigree function</th>\n",
              "      <th>Age</th>\n",
              "    </tr>\n",
              "  </thead>\n",
              "  <tbody>\n",
              "    <tr>\n",
              "      <th>0</th>\n",
              "      <td>1</td>\n",
              "      <td>85</td>\n",
              "      <td>66</td>\n",
              "      <td>29</td>\n",
              "      <td>0</td>\n",
              "      <td>26.6</td>\n",
              "      <td>0.351</td>\n",
              "      <td>31</td>\n",
              "    </tr>\n",
              "    <tr>\n",
              "      <th>1</th>\n",
              "      <td>8</td>\n",
              "      <td>183</td>\n",
              "      <td>64</td>\n",
              "      <td>0</td>\n",
              "      <td>0</td>\n",
              "      <td>23.3</td>\n",
              "      <td>0.672</td>\n",
              "      <td>32</td>\n",
              "    </tr>\n",
              "  </tbody>\n",
              "</table>\n",
              "</div>"
            ],
            "text/plain": [
              "   No of times pregnant  ...  Age\n",
              "0                     1  ...   31\n",
              "1                     8  ...   32\n",
              "\n",
              "[2 rows x 8 columns]"
            ]
          },
          "execution_count": 77,
          "metadata": {},
          "output_type": "execute_result"
        }
      ],
      "source": [
        "x.head(2)"
      ]
    },
    {
      "cell_type": "code",
      "execution_count": null,
      "metadata": {
        "id": "KVAJYvBgqNwI"
      },
      "outputs": [],
      "source": [
        "import numpy as np\n",
        "from sklearn.preprocessing import StandardScaler\n",
        "\n",
        "scaler = StandardScaler().fit(x_train)\n",
        "\n",
        "x_train = scaler.transform(x_train)\n",
        "\n",
        "x_test = scaler.transform(x_test)\n",
        "\n",
        "x_train = np.array(x_train)\n",
        "x_test = np.array(x_test)"
      ]
    },
    {
      "cell_type": "code",
      "execution_count": null,
      "metadata": {
        "colab": {
          "base_uri": "https://localhost:8080/"
        },
        "id": "XarmHTFxqRyy",
        "outputId": "3f826f62-db09-443d-de81-5bf8a3a8858d"
      },
      "outputs": [
        {
          "name": "stdout",
          "output_type": "stream",
          "text": [
            "Epoch 1/30\n",
            "18/18 [==============================] - 1s 16ms/step - loss: 0.7466 - accuracy: 0.3448 - val_loss: 0.6972 - val_accuracy: 0.4839\n",
            "Epoch 2/30\n",
            "18/18 [==============================] - 0s 8ms/step - loss: 0.6941 - accuracy: 0.5481 - val_loss: 0.6850 - val_accuracy: 0.6452\n",
            "Epoch 3/30\n",
            "18/18 [==============================] - 0s 5ms/step - loss: 0.6862 - accuracy: 0.6751 - val_loss: 0.6823 - val_accuracy: 0.6774\n",
            "Epoch 4/30\n",
            "18/18 [==============================] - 0s 6ms/step - loss: 0.6814 - accuracy: 0.6860 - val_loss: 0.6784 - val_accuracy: 0.6935\n",
            "Epoch 5/30\n",
            "18/18 [==============================] - 0s 6ms/step - loss: 0.6774 - accuracy: 0.6969 - val_loss: 0.6741 - val_accuracy: 0.6935\n",
            "Epoch 6/30\n",
            "18/18 [==============================] - 0s 6ms/step - loss: 0.6734 - accuracy: 0.7005 - val_loss: 0.6685 - val_accuracy: 0.6935\n",
            "Epoch 7/30\n",
            "18/18 [==============================] - 0s 6ms/step - loss: 0.6696 - accuracy: 0.7024 - val_loss: 0.6633 - val_accuracy: 0.6935\n",
            "Epoch 8/30\n",
            "18/18 [==============================] - 0s 5ms/step - loss: 0.6655 - accuracy: 0.7060 - val_loss: 0.6584 - val_accuracy: 0.7258\n",
            "Epoch 9/30\n",
            "18/18 [==============================] - 0s 6ms/step - loss: 0.6620 - accuracy: 0.7096 - val_loss: 0.6557 - val_accuracy: 0.7258\n",
            "Epoch 10/30\n",
            "18/18 [==============================] - 0s 6ms/step - loss: 0.6579 - accuracy: 0.7114 - val_loss: 0.6506 - val_accuracy: 0.7258\n",
            "Epoch 11/30\n",
            "18/18 [==============================] - 0s 6ms/step - loss: 0.6543 - accuracy: 0.7187 - val_loss: 0.6464 - val_accuracy: 0.7258\n",
            "Epoch 12/30\n",
            "18/18 [==============================] - 0s 8ms/step - loss: 0.6508 - accuracy: 0.7169 - val_loss: 0.6415 - val_accuracy: 0.7258\n",
            "Epoch 13/30\n",
            "18/18 [==============================] - 0s 7ms/step - loss: 0.6467 - accuracy: 0.7260 - val_loss: 0.6369 - val_accuracy: 0.7258\n",
            "Epoch 14/30\n",
            "18/18 [==============================] - 0s 6ms/step - loss: 0.6436 - accuracy: 0.7260 - val_loss: 0.6323 - val_accuracy: 0.7258\n",
            "Epoch 15/30\n",
            "18/18 [==============================] - 0s 6ms/step - loss: 0.6391 - accuracy: 0.7278 - val_loss: 0.6278 - val_accuracy: 0.7258\n",
            "Epoch 16/30\n",
            "18/18 [==============================] - 0s 7ms/step - loss: 0.6352 - accuracy: 0.7332 - val_loss: 0.6219 - val_accuracy: 0.7258\n",
            "Epoch 17/30\n",
            "18/18 [==============================] - 0s 5ms/step - loss: 0.6316 - accuracy: 0.7387 - val_loss: 0.6164 - val_accuracy: 0.7097\n",
            "Epoch 18/30\n",
            "18/18 [==============================] - 0s 5ms/step - loss: 0.6278 - accuracy: 0.7405 - val_loss: 0.6100 - val_accuracy: 0.7097\n",
            "Epoch 19/30\n",
            "18/18 [==============================] - 0s 6ms/step - loss: 0.6244 - accuracy: 0.7387 - val_loss: 0.6063 - val_accuracy: 0.7097\n",
            "Epoch 20/30\n",
            "18/18 [==============================] - 0s 5ms/step - loss: 0.6202 - accuracy: 0.7477 - val_loss: 0.6023 - val_accuracy: 0.7258\n",
            "Epoch 21/30\n",
            "18/18 [==============================] - 0s 6ms/step - loss: 0.6162 - accuracy: 0.7623 - val_loss: 0.5951 - val_accuracy: 0.7581\n",
            "Epoch 22/30\n",
            "18/18 [==============================] - 0s 5ms/step - loss: 0.6126 - accuracy: 0.7659 - val_loss: 0.5975 - val_accuracy: 0.7419\n",
            "Epoch 23/30\n",
            "18/18 [==============================] - 0s 7ms/step - loss: 0.6071 - accuracy: 0.7786 - val_loss: 0.5867 - val_accuracy: 0.7581\n",
            "Epoch 24/30\n",
            "18/18 [==============================] - 0s 5ms/step - loss: 0.6032 - accuracy: 0.7768 - val_loss: 0.5863 - val_accuracy: 0.7581\n",
            "Epoch 25/30\n",
            "18/18 [==============================] - 0s 6ms/step - loss: 0.5993 - accuracy: 0.7804 - val_loss: 0.5818 - val_accuracy: 0.7742\n",
            "Epoch 26/30\n",
            "18/18 [==============================] - 0s 6ms/step - loss: 0.5953 - accuracy: 0.7840 - val_loss: 0.5761 - val_accuracy: 0.7742\n",
            "Epoch 27/30\n",
            "18/18 [==============================] - 0s 7ms/step - loss: 0.5917 - accuracy: 0.7840 - val_loss: 0.5738 - val_accuracy: 0.7903\n",
            "Epoch 28/30\n",
            "18/18 [==============================] - 0s 7ms/step - loss: 0.5874 - accuracy: 0.8040 - val_loss: 0.5673 - val_accuracy: 0.7581\n",
            "Epoch 29/30\n",
            "18/18 [==============================] - 0s 8ms/step - loss: 0.5831 - accuracy: 0.7931 - val_loss: 0.5643 - val_accuracy: 0.7903\n",
            "Epoch 30/30\n",
            "18/18 [==============================] - 0s 6ms/step - loss: 0.5780 - accuracy: 0.7949 - val_loss: 0.5612 - val_accuracy: 0.7903\n"
          ]
        }
      ],
      "source": [
        "# Create Sequential Model\n",
        "model = keras.models.Sequential()\n",
        "\n",
        "# Adding our layers\n",
        "from tensorflow.keras.layers import Dense , Flatten\n",
        "model.add(Dense(8, activation='relu'))\n",
        "model.add(Dense(32, activation='relu'))\n",
        "model.add(Dense(16, activation='relu'))\n",
        "model.add(Dense(8, activation='relu'))\n",
        "model.add(Dense(1, activation='sigmoid'))\n",
        "\n",
        "model.compile(loss='binary_crossentropy',\n",
        "              optimizer='adam',\n",
        "              metrics=['accuracy'])\n",
        "\n",
        "# Creat checkpoint to save model at the end of each epoch:\n",
        "checkpoint_cb = keras.callbacks.ModelCheckpoint(\"my_keras_model.h5\", save_best_only=True)\n",
        "\n",
        "# Creat EarlyStopping checkpoint:\n",
        "early_stopping_cb = keras.callbacks.EarlyStopping(patience=10, restore_best_weights=True)\n",
        "\n",
        "history = model.fit(x_train, y_train,\n",
        "                    epochs=30,\n",
        "                    validation_split = 0.1,\n",
        "                    callbacks=[checkpoint_cb, early_stopping_cb])"
      ]
    },
    {
      "cell_type": "code",
      "execution_count": null,
      "metadata": {
        "colab": {
          "base_uri": "https://localhost:8080/",
          "height": 320
        },
        "id": "MHDp_VNuq_MP",
        "outputId": "68e2dbf2-1720-4d4e-e42f-3e7da11ab6fb"
      },
      "outputs": [
        {
          "data": {
            "image/png": "[encoded data removed]",
            "text/plain": [
              "<Figure size 720x360 with 1 Axes>"
            ]
          },
          "metadata": {
            "needs_background": "light"
          },
          "output_type": "display_data"
        }
      ],
      "source": [
        "import pandas as pd\n",
        "import matplotlib.pyplot as plt\n",
        "\n",
        "learning_data = pd.DataFrame(history.history)\n",
        "# learning_data.head()\n",
        "learning_data.plot(figsize=(10,5))\n",
        "plt.grid(True)\n",
        "plt.show()"
      ]
    },
    {
      "cell_type": "code",
      "execution_count": null,
      "metadata": {
        "colab": {
          "base_uri": "https://localhost:8080/"
        },
        "id": "J2oUl82HrEgH",
        "outputId": "5109c949-33be-4ef7-a050-9d3bcd34ab06"
      },
      "outputs": [
        {
          "name": "stdout",
          "output_type": "stream",
          "text": [
            "5/5 [==============================] - 0s 3ms/step - loss: 0.5881 - accuracy: 0.7597\n"
          ]
        },
        {
          "data": {
            "text/plain": [
              "[0.5881298780441284, 0.7597402334213257]"
            ]
          },
          "execution_count": 81,
          "metadata": {},
          "output_type": "execute_result"
        }
      ],
      "source": [
        "model.evaluate(x_test, y_test)"
      ]
    },
    {
      "cell_type": "code",
      "execution_count": null,
      "metadata": {
        "id": "QL8A15k8rJDy"
      },
      "outputs": [],
      "source": [
        "y_pred = np.round(model.predict(x_test))\n"
      ]
    },
    {
      "cell_type": "code",
      "execution_count": null,
      "metadata": {
        "colab": {
          "base_uri": "https://localhost:8080/"
        },
        "id": "KIPCcsOvrOZn",
        "outputId": "ef01b916-1d18-4ee6-fe6d-230b022498a5"
      },
      "outputs": [
        {
          "name": "stdout",
          "output_type": "stream",
          "text": [
            "(154, 1)\n",
            "(154,)\n",
            "(154, 1)\n"
          ]
        }
      ],
      "source": [
        "print(y_pred.shape)\n",
        "print(y_test.shape)\n",
        "y_test = np.array(y_test).reshape(-1,1)\n",
        "print(y_test.shape)\n",
        "\n"
      ]
    },
    {
      "cell_type": "code",
      "execution_count": null,
      "metadata": {
        "colab": {
          "base_uri": "https://localhost:8080/"
        },
        "id": "ESCWKXxIrQkx",
        "outputId": "b8bb8f97-7008-42a1-d225-af2f558e540f"
      },
      "outputs": [
        {
          "data": {
            "text/plain": [
              "array([[82, 15],\n",
              "       [22, 35]])"
            ]
          },
          "execution_count": 84,
          "metadata": {},
          "output_type": "execute_result"
        }
      ],
      "source": [
        "from sklearn.metrics import confusion_matrix\n",
        "from sklearn.metrics import classification_report\n",
        "confusion_matrix(y_test,y_pred)\n",
        "\n"
      ]
    },
    {
      "cell_type": "code",
      "execution_count": null,
      "metadata": {
        "colab": {
          "base_uri": "https://localhost:8080/"
        },
        "id": "Wthpvog6rUWk",
        "outputId": "793f3e9f-6e65-4725-c37c-17d0059fb6dc"
      },
      "outputs": [
        {
          "name": "stdout",
          "output_type": "stream",
          "text": [
            "              precision    recall  f1-score   support\n",
            "\n",
            "           0       0.79      0.85      0.82        97\n",
            "           1       0.70      0.61      0.65        57\n",
            "\n",
            "    accuracy                           0.76       154\n",
            "   macro avg       0.74      0.73      0.74       154\n",
            "weighted avg       0.76      0.76      0.76       154\n",
            "\n"
          ]
        }
      ],
      "source": [
        "print(classification_report(y_test,y_pred))"
      ]
    },
    {
      "cell_type": "code",
      "execution_count": null,
      "metadata": {
        "id": "s3kJqx4ErWVP"
      },
      "outputs": [],
      "source": [
        "#day_2\n",
        "#without cnn\n",
        "#first we will work on mnist Data set"
      ]
    },
    {
      "cell_type": "code",
      "execution_count": null,
      "metadata": {
        "colab": {
          "base_uri": "https://localhost:8080/"
        },
        "id": "RNgTg4musARE",
        "outputId": "5140497c-60c2-473f-9e4f-9e73e2ba5a93"
      },
      "outputs": [
        {
          "name": "stdout",
          "output_type": "stream",
          "text": [
            "Downloading data from https://storage.googleapis.com/tensorflow/tf-keras-datasets/mnist.npz\n",
            "11493376/11490434 [==============================] - 0s 0us/step\n",
            "11501568/11490434 [==============================] - 0s 0us/step\n",
            "X_train shape:  (60000, 28, 28)\n",
            "X_test shape:  (10000, 28, 28)\n",
            "X data type:  uint8\n",
            "y_train shape:  (60000,)\n"
          ]
        }
      ],
      "source": [
        "mnist = keras.datasets.mnist\n",
        "(X_train, y_train), (X_test, y_test) = mnist.load_data()\n",
        "print('X_train shape: ', X_train.shape)\n",
        "print('X_test shape: ', X_test.shape)\n",
        "print('X data type: ', X_train.dtype)\n",
        "print('y_train shape: ', y_train.shape)"
      ]
    },
    {
      "cell_type": "code",
      "execution_count": null,
      "metadata": {
        "colab": {
          "base_uri": "https://localhost:8080/"
        },
        "id": "6Eg2EP7RsAWZ",
        "outputId": "7da5a42b-5bd3-4627-9f0e-e54fd18dbcf8"
      },
      "outputs": [
        {
          "data": {
            "text/plain": [
              "(28, 28)"
            ]
          },
          "execution_count": 91,
          "metadata": {},
          "output_type": "execute_result"
        }
      ],
      "source": [
        "X_train[1].shape"
      ]
    },
    {
      "cell_type": "code",
      "execution_count": null,
      "metadata": {
        "colab": {
          "base_uri": "https://localhost:8080/"
        },
        "id": "lrZSELi4sAbn",
        "outputId": "15242d21-07e9-4af1-ab66-ae6ccb214606"
      },
      "outputs": [
        {
          "data": {
            "text/plain": [
              "array([0, 0, 0, 0, 0, 0, 0, 0, 0, 0, 0, 0, 0, 0, 0, 0, 0, 0, 0, 0, 0, 0,\n",
              "       0, 0, 0, 0, 0, 0], dtype=uint8)"
            ]
          },
          "execution_count": 92,
          "metadata": {},
          "output_type": "execute_result"
        }
      ],
      "source": [
        "X_train[1][0]"
      ]
    },
    {
      "cell_type": "code",
      "execution_count": null,
      "metadata": {
        "colab": {
          "base_uri": "https://localhost:8080/",
          "height": 772
        },
        "id": "1M8MxbDHsAgr",
        "outputId": "f126b667-eb11-4c1e-a9bb-44383f4fb7b9"
      },
      "outputs": [
        {
          "data": {
            "image/png": "[encoded data removed]",
            "text/plain": [
              "<Figure size 432x288 with 1 Axes>"
            ]
          },
          "metadata": {
            "needs_background": "light"
          },
          "output_type": "display_data"
        },
        {
          "name": "stdout",
          "output_type": "stream",
          "text": [
            "[[  0   0   0   0   0   0   0   0   0   0   0   0   0   0   0   0   0   0   0   0   0   0   0   0   0   0   0   0]\n",
            " [  0   0   0   0   0   0   0   0   0   0   0   0   0   0   0   0   0   0   0   0   0   0   0   0   0   0   0   0]\n",
            " [  0   0   0   0   0   0   0   0   0   0   0   0   0   0   0   0   0   0   0   0   0   0   0   0   0   0   0   0]\n",
            " [  0   0   0   0   0   0   0   0   0   0   0   0   0   0   0   0   0   0   0   0   0   0   0   0   0   0   0   0]\n",
            " [  0   0   0   0   0   0   0   0   0   0   0   0   0   0   0  51 159 253 159  50   0   0   0   0   0   0   0   0]\n",
            " [  0   0   0   0   0   0   0   0   0   0   0   0   0   0  48 238 252 252 252 237   0   0   0   0   0   0   0   0]\n",
            " [  0   0   0   0   0   0   0   0   0   0   0   0   0  54 227 253 252 239 233 252  57   6   0   0   0   0   0   0]\n",
            " [  0   0   0   0   0   0   0   0   0   0   0  10  60 224 252 253 252 202  84 252 253 122   0   0   0   0   0   0]\n",
            " [  0   0   0   0   0   0   0   0   0   0   0 163 252 252 252 253 252 252  96 189 253 167   0   0   0   0   0   0]\n",
            " [  0   0   0   0   0   0   0   0   0   0  51 238 253 253 190 114 253 228  47  79 255 168   0   0   0   0   0   0]\n",
            " [  0   0   0   0   0   0   0   0   0  48 238 252 252 179  12  75 121  21   0   0 253 243  50   0   0   0   0   0]\n",
            " [  0   0   0   0   0   0   0   0  38 165 253 233 208  84   0   0   0   0   0   0 253 252 165   0   0   0   0   0]\n",
            " [  0   0   0   0   0   0   0   7 178 252 240  71  19  28   0   0   0   0   0   0 253 252 195   0   0   0   0   0]\n",
            " [  0   0   0   0   0   0   0  57 252 252  63   0   0   0   0   0   0   0   0   0 253 252 195   0   0   0   0   0]\n",
            " [  0   0   0   0   0   0   0 198 253 190   0   0   0   0   0   0   0   0   0   0 255 253 196   0   0   0   0   0]\n",
            " [  0   0   0   0   0   0  76 246 252 112   0   0   0   0   0   0   0   0   0   0 253 252 148   0   0   0   0   0]\n",
            " [  0   0   0   0   0   0  85 252 230  25   0   0   0   0   0   0   0   0   7 135 253 186  12   0   0   0   0   0]\n",
            " [  0   0   0   0   0   0  85 252 223   0   0   0   0   0   0   0   0   7 131 252 225  71   0   0   0   0   0   0]\n",
            " [  0   0   0   0   0   0  85 252 145   0   0   0   0   0   0   0  48 165 252 173   0   0   0   0   0   0   0   0]\n",
            " [  0   0   0   0   0   0  86 253 225   0   0   0   0   0   0 114 238 253 162   0   0   0   0   0   0   0   0   0]\n",
            " [  0   0   0   0   0   0  85 252 249 146  48  29  85 178 225 253 223 167  56   0   0   0   0   0   0   0   0   0]\n",
            " [  0   0   0   0   0   0  85 252 252 252 229 215 252 252 252 196 130   0   0   0   0   0   0   0   0   0   0   0]\n",
            " [  0   0   0   0   0   0  28 199 252 252 253 252 252 233 145   0   0   0   0   0   0   0   0   0   0   0   0   0]\n",
            " [  0   0   0   0   0   0   0  25 128 252 253 252 141  37   0   0   0   0   0   0   0   0   0   0   0   0   0   0]\n",
            " [  0   0   0   0   0   0   0   0   0   0   0   0   0   0   0   0   0   0   0   0   0   0   0   0   0   0   0   0]\n",
            " [  0   0   0   0   0   0   0   0   0   0   0   0   0   0   0   0   0   0   0   0   0   0   0   0   0   0   0   0]\n",
            " [  0   0   0   0   0   0   0   0   0   0   0   0   0   0   0   0   0   0   0   0   0   0   0   0   0   0   0   0]\n",
            " [  0   0   0   0   0   0   0   0   0   0   0   0   0   0   0   0   0   0   0   0   0   0   0   0   0   0   0   0]]\n"
          ]
        }
      ],
      "source": [
        "import matplotlib.pyplot as plt\n",
        "np.set_printoptions(linewidth=200)\n",
        "plt.imshow(X_train[1], cmap=plt.cm.binary)\n",
        "plt.show()\n",
        "print(X_train[1])"
      ]
    },
    {
      "cell_type": "code",
      "execution_count": null,
      "metadata": {
        "id": "U6-dGw-_uxgu"
      },
      "outputs": [],
      "source": [
        "X_train = X_train/255"
      ]
    },
    {
      "cell_type": "code",
      "source": [
        "# from sklearn.preprocessing import StandardScaler\n",
        "# data = [[0, 0], [0, 0], [1, 1], [1, 1]]\n",
        "# scaler = StandardScaler()\n",
        "# print(scaler.fit(data))\n",
        "# StandardScaler()\n",
        "# print(scaler.mean_)"
      ],
      "metadata": {
        "colab": {
          "base_uri": "https://localhost:8080/"
        },
        "id": "CEIY-JjDUa7m",
        "outputId": "4a809fdb-98ed-4f8d-df1e-7a31a8489299"
      },
      "execution_count": null,
      "outputs": [
        {
          "output_type": "stream",
          "name": "stdout",
          "text": [
            "StandardScaler()\n",
            "[0.5 0.5]\n"
          ]
        }
      ]
    },
    {
      "cell_type": "code",
      "source": [
        "# print(scaler.transform(data))"
      ],
      "metadata": {
        "colab": {
          "base_uri": "https://localhost:8080/"
        },
        "id": "eg5NDp3nWJTy",
        "outputId": "0aba1c56-4374-4039-dcb6-cd1042939989"
      },
      "execution_count": null,
      "outputs": [
        {
          "output_type": "stream",
          "name": "stdout",
          "text": [
            "[[-1. -1.]\n",
            " [-1. -1.]\n",
            " [ 1.  1.]\n",
            " [ 1.  1.]]\n"
          ]
        }
      ]
    },
    {
      "cell_type": "code",
      "execution_count": null,
      "metadata": {
        "colab": {
          "base_uri": "https://localhost:8080/"
        },
        "id": "-aHOyNq6vEa7",
        "outputId": "e04303c7-c81a-4afd-b9ee-bab57d9b3bdc"
      },
      "outputs": [
        {
          "data": {
            "text/plain": [
              "array([[0.        , 0.        , 0.        , 0.        , 0.        , 0.        , 0.        , 0.        , 0.        , 0.        , 0.        , 0.        , 0.        , 0.        , 0.        ,\n",
              "        0.        , 0.        , 0.        , 0.        , 0.        , 0.        , 0.        , 0.        , 0.        , 0.        , 0.        , 0.        , 0.        ],\n",
              "       [0.        , 0.        , 0.        , 0.        , 0.        , 0.        , 0.        , 0.        , 0.        , 0.        , 0.        , 0.        , 0.        , 0.        , 0.        ,\n",
              "        0.        , 0.        , 0.        , 0.        , 0.        , 0.        , 0.        , 0.        , 0.        , 0.        , 0.        , 0.        , 0.        ],\n",
              "       [0.        , 0.        , 0.        , 0.        , 0.        , 0.        , 0.        , 0.        , 0.        , 0.        , 0.        , 0.        , 0.        , 0.        , 0.        ,\n",
              "        0.        , 0.        , 0.        , 0.        , 0.        , 0.        , 0.        , 0.        , 0.        , 0.        , 0.        , 0.        , 0.        ],\n",
              "       [0.        , 0.        , 0.        , 0.        , 0.        , 0.        , 0.        , 0.        , 0.        , 0.        , 0.        , 0.        , 0.        , 0.        , 0.        ,\n",
              "        0.        , 0.        , 0.        , 0.        , 0.        , 0.        , 0.        , 0.        , 0.        , 0.        , 0.        , 0.        , 0.        ],\n",
              "       [0.        , 0.        , 0.        , 0.        , 0.        , 0.        , 0.        , 0.        , 0.        , 0.        , 0.        , 0.        , 0.        , 0.        , 0.        ,\n",
              "        0.2       , 0.62352941, 0.99215686, 0.62352941, 0.19607843, 0.        , 0.        , 0.        , 0.        , 0.        , 0.        , 0.        , 0.        ],\n",
              "       [0.        , 0.        , 0.        , 0.        , 0.        , 0.        , 0.        , 0.        , 0.        , 0.        , 0.        , 0.        , 0.        , 0.        , 0.18823529,\n",
              "        0.93333333, 0.98823529, 0.98823529, 0.98823529, 0.92941176, 0.        , 0.        , 0.        , 0.        , 0.        , 0.        , 0.        , 0.        ],\n",
              "       [0.        , 0.        , 0.        , 0.        , 0.        , 0.        , 0.        , 0.        , 0.        , 0.        , 0.        , 0.        , 0.        , 0.21176471, 0.89019608,\n",
              "        0.99215686, 0.98823529, 0.9372549 , 0.91372549, 0.98823529, 0.22352941, 0.02352941, 0.        , 0.        , 0.        , 0.        , 0.        , 0.        ],\n",
              "       [0.        , 0.        , 0.        , 0.        , 0.        , 0.        , 0.        , 0.        , 0.        , 0.        , 0.        , 0.03921569, 0.23529412, 0.87843137, 0.98823529,\n",
              "        0.99215686, 0.98823529, 0.79215686, 0.32941176, 0.98823529, 0.99215686, 0.47843137, 0.        , 0.        , 0.        , 0.        , 0.        , 0.        ],\n",
              "       [0.        , 0.        , 0.        , 0.        , 0.        , 0.        , 0.        , 0.        , 0.        , 0.        , 0.        , 0.63921569, 0.98823529, 0.98823529, 0.98823529,\n",
              "        0.99215686, 0.98823529, 0.98823529, 0.37647059, 0.74117647, 0.99215686, 0.65490196, 0.        , 0.        , 0.        , 0.        , 0.        , 0.        ],\n",
              "       [0.        , 0.        , 0.        , 0.        , 0.        , 0.        , 0.        , 0.        , 0.        , 0.        , 0.2       , 0.93333333, 0.99215686, 0.99215686, 0.74509804,\n",
              "        0.44705882, 0.99215686, 0.89411765, 0.18431373, 0.30980392, 1.        , 0.65882353, 0.        , 0.        , 0.        , 0.        , 0.        , 0.        ],\n",
              "       [0.        , 0.        , 0.        , 0.        , 0.        , 0.        , 0.        , 0.        , 0.        , 0.18823529, 0.93333333, 0.98823529, 0.98823529, 0.70196078, 0.04705882,\n",
              "        0.29411765, 0.4745098 , 0.08235294, 0.        , 0.        , 0.99215686, 0.95294118, 0.19607843, 0.        , 0.        , 0.        , 0.        , 0.        ],\n",
              "       [0.        , 0.        , 0.        , 0.        , 0.        , 0.        , 0.        , 0.        , 0.14901961, 0.64705882, 0.99215686, 0.91372549, 0.81568627, 0.32941176, 0.        ,\n",
              "        0.        , 0.        , 0.        , 0.        , 0.        , 0.99215686, 0.98823529, 0.64705882, 0.        , 0.        , 0.        , 0.        , 0.        ],\n",
              "       [0.        , 0.        , 0.        , 0.        , 0.        , 0.        , 0.        , 0.02745098, 0.69803922, 0.98823529, 0.94117647, 0.27843137, 0.0745098 , 0.10980392, 0.        ,\n",
              "        0.        , 0.        , 0.        , 0.        , 0.        , 0.99215686, 0.98823529, 0.76470588, 0.        , 0.        , 0.        , 0.        , 0.        ],\n",
              "       [0.        , 0.        , 0.        , 0.        , 0.        , 0.        , 0.        , 0.22352941, 0.98823529, 0.98823529, 0.24705882, 0.        , 0.        , 0.        , 0.        ,\n",
              "        0.        , 0.        , 0.        , 0.        , 0.        , 0.99215686, 0.98823529, 0.76470588, 0.        , 0.        , 0.        , 0.        , 0.        ],\n",
              "       [0.        , 0.        , 0.        , 0.        , 0.        , 0.        , 0.        , 0.77647059, 0.99215686, 0.74509804, 0.        , 0.        , 0.        , 0.        , 0.        ,\n",
              "        0.        , 0.        , 0.        , 0.        , 0.        , 1.        , 0.99215686, 0.76862745, 0.        , 0.        , 0.        , 0.        , 0.        ],\n",
              "       [0.        , 0.        , 0.        , 0.        , 0.        , 0.        , 0.29803922, 0.96470588, 0.98823529, 0.43921569, 0.        , 0.        , 0.        , 0.        , 0.        ,\n",
              "        0.        , 0.        , 0.        , 0.        , 0.        , 0.99215686, 0.98823529, 0.58039216, 0.        , 0.        , 0.        , 0.        , 0.        ],\n",
              "       [0.        , 0.        , 0.        , 0.        , 0.        , 0.        , 0.33333333, 0.98823529, 0.90196078, 0.09803922, 0.        , 0.        , 0.        , 0.        , 0.        ,\n",
              "        0.        , 0.        , 0.        , 0.02745098, 0.52941176, 0.99215686, 0.72941176, 0.04705882, 0.        , 0.        , 0.        , 0.        , 0.        ],\n",
              "       [0.        , 0.        , 0.        , 0.        , 0.        , 0.        , 0.33333333, 0.98823529, 0.8745098 , 0.        , 0.        , 0.        , 0.        , 0.        , 0.        ,\n",
              "        0.        , 0.        , 0.02745098, 0.51372549, 0.98823529, 0.88235294, 0.27843137, 0.        , 0.        , 0.        , 0.        , 0.        , 0.        ],\n",
              "       [0.        , 0.        , 0.        , 0.        , 0.        , 0.        , 0.33333333, 0.98823529, 0.56862745, 0.        , 0.        , 0.        , 0.        , 0.        , 0.        ,\n",
              "        0.        , 0.18823529, 0.64705882, 0.98823529, 0.67843137, 0.        , 0.        , 0.        , 0.        , 0.        , 0.        , 0.        , 0.        ],\n",
              "       [0.        , 0.        , 0.        , 0.        , 0.        , 0.        , 0.3372549 , 0.99215686, 0.88235294, 0.        , 0.        , 0.        , 0.        , 0.        , 0.        ,\n",
              "        0.44705882, 0.93333333, 0.99215686, 0.63529412, 0.        , 0.        , 0.        , 0.        , 0.        , 0.        , 0.        , 0.        , 0.        ],\n",
              "       [0.        , 0.        , 0.        , 0.        , 0.        , 0.        , 0.33333333, 0.98823529, 0.97647059, 0.57254902, 0.18823529, 0.11372549, 0.33333333, 0.69803922, 0.88235294,\n",
              "        0.99215686, 0.8745098 , 0.65490196, 0.21960784, 0.        , 0.        , 0.        , 0.        , 0.        , 0.        , 0.        , 0.        , 0.        ],\n",
              "       [0.        , 0.        , 0.        , 0.        , 0.        , 0.        , 0.33333333, 0.98823529, 0.98823529, 0.98823529, 0.89803922, 0.84313725, 0.98823529, 0.98823529, 0.98823529,\n",
              "        0.76862745, 0.50980392, 0.        , 0.        , 0.        , 0.        , 0.        , 0.        , 0.        , 0.        , 0.        , 0.        , 0.        ],\n",
              "       [0.        , 0.        , 0.        , 0.        , 0.        , 0.        , 0.10980392, 0.78039216, 0.98823529, 0.98823529, 0.99215686, 0.98823529, 0.98823529, 0.91372549, 0.56862745,\n",
              "        0.        , 0.        , 0.        , 0.        , 0.        , 0.        , 0.        , 0.        , 0.        , 0.        , 0.        , 0.        , 0.        ],\n",
              "       [0.        , 0.        , 0.        , 0.        , 0.        , 0.        , 0.        , 0.09803922, 0.50196078, 0.98823529, 0.99215686, 0.98823529, 0.55294118, 0.14509804, 0.        ,\n",
              "        0.        , 0.        , 0.        , 0.        , 0.        , 0.        , 0.        , 0.        , 0.        , 0.        , 0.        , 0.        , 0.        ],\n",
              "       [0.        , 0.        , 0.        , 0.        , 0.        , 0.        , 0.        , 0.        , 0.        , 0.        , 0.        , 0.        , 0.        , 0.        , 0.        ,\n",
              "        0.        , 0.        , 0.        , 0.        , 0.        , 0.        , 0.        , 0.        , 0.        , 0.        , 0.        , 0.        , 0.        ],\n",
              "       [0.        , 0.        , 0.        , 0.        , 0.        , 0.        , 0.        , 0.        , 0.        , 0.        , 0.        , 0.        , 0.        , 0.        , 0.        ,\n",
              "        0.        , 0.        , 0.        , 0.        , 0.        , 0.        , 0.        , 0.        , 0.        , 0.        , 0.        , 0.        , 0.        ],\n",
              "       [0.        , 0.        , 0.        , 0.        , 0.        , 0.        , 0.        , 0.        , 0.        , 0.        , 0.        , 0.        , 0.        , 0.        , 0.        ,\n",
              "        0.        , 0.        , 0.        , 0.        , 0.        , 0.        , 0.        , 0.        , 0.        , 0.        , 0.        , 0.        , 0.        ],\n",
              "       [0.        , 0.        , 0.        , 0.        , 0.        , 0.        , 0.        , 0.        , 0.        , 0.        , 0.        , 0.        , 0.        , 0.        , 0.        ,\n",
              "        0.        , 0.        , 0.        , 0.        , 0.        , 0.        , 0.        , 0.        , 0.        , 0.        , 0.        , 0.        , 0.        ]])"
            ]
          },
          "execution_count": 95,
          "metadata": {},
          "output_type": "execute_result"
        }
      ],
      "source": [
        "X_train[1]"
      ]
    },
    {
      "cell_type": "code",
      "execution_count": null,
      "metadata": {
        "id": "FM6r2ESJvHbU"
      },
      "outputs": [],
      "source": [
        "class_name = np.array([\"zero\", \"one\", \"two\",\n",
        "                       \"three\", \"four\", \"five\", \"six\",\n",
        "                       \"seven\", \"eight\", \"nine\"])"
      ]
    },
    {
      "cell_type": "code",
      "execution_count": null,
      "metadata": {
        "colab": {
          "base_uri": "https://localhost:8080/"
        },
        "id": "vzokBk-xwpJ5",
        "outputId": "302231c6-24bd-4876-9687-7b811e21e09c"
      },
      "outputs": [
        {
          "data": {
            "text/plain": [
              "(0, 'zero')"
            ]
          },
          "execution_count": 97,
          "metadata": {},
          "output_type": "execute_result"
        }
      ],
      "source": [
        "y_train[1], class_name[y_train[1]]"
      ]
    },
    {
      "cell_type": "code",
      "execution_count": null,
      "metadata": {
        "colab": {
          "base_uri": "https://localhost:8080/"
        },
        "id": "cyNqVLjgwrKO",
        "outputId": "f216d83e-b0c3-4302-e91d-fa2ff8352a57"
      },
      "outputs": [
        {
          "data": {
            "text/plain": [
              "(28, 28)"
            ]
          },
          "execution_count": 98,
          "metadata": {},
          "output_type": "execute_result"
        }
      ],
      "source": [
        "X_train[0].shape"
      ]
    },
    {
      "cell_type": "code",
      "execution_count": null,
      "metadata": {
        "id": "0yQRvSIzwufC"
      },
      "outputs": [],
      "source": [
        "# Create Sequential Model\n",
        "model = keras.models.Sequential()\n",
        "\n",
        "# Adding our layers\n",
        "from tensorflow.keras import layers\n",
        "\n",
        "model.add(layers.Flatten(input_shape=X_train[0].shape, name='input'))\n",
        "model.add(layers.Dense(400, activation='relu', name='hidden_1'))\n",
        "# model.add(layers.Dense(300, activation='relu', name='hidden_2'))\n",
        "model.add(layers.Dense(200, activation='relu', name='hidden_2'))\n",
        "model.add(layers.Dense(10, activation='softmax', name='output'))"
      ]
    },
    {
      "cell_type": "code",
      "execution_count": null,
      "metadata": {
        "colab": {
          "base_uri": "https://localhost:8080/"
        },
        "id": "2WMy6sOYw-PU",
        "outputId": "de65db80-ce3e-4647-bd86-6648dd84af3e"
      },
      "outputs": [
        {
          "name": "stdout",
          "output_type": "stream",
          "text": [
            "Model: \"sequential_4\"\n",
            "_________________________________________________________________\n",
            " Layer (type)                Output Shape              Param #   \n",
            "=================================================================\n",
            " input (Flatten)             (None, 784)               0         \n",
            "                                                                 \n",
            " hidden_1 (Dense)            (None, 400)               314000    \n",
            "                                                                 \n",
            " hidden_2 (Dense)            (None, 200)               80200     \n",
            "                                                                 \n",
            " output (Dense)              (None, 10)                2010      \n",
            "                                                                 \n",
            "=================================================================\n",
            "Total params: 396,210\n",
            "Trainable params: 396,210\n",
            "Non-trainable params: 0\n",
            "_________________________________________________________________\n"
          ]
        }
      ],
      "source": [
        "model.summary()\n",
        "#in first hidden layer there is 400 bias\n",
        "#in second hidden layer there is 200 bias"
      ]
    },
    {
      "cell_type": "code",
      "execution_count": null,
      "metadata": {
        "colab": {
          "base_uri": "https://localhost:8080/"
        },
        "id": "ucsCGW76xOti",
        "outputId": "624994d8-78b4-46be-92f6-8d7f4dae82cd"
      },
      "outputs": [
        {
          "data": {
            "text/plain": [
              "[<keras.layers.core.flatten.Flatten at 0x7fac8688c250>,\n",
              " <keras.layers.core.dense.Dense at 0x7fac8688c090>,\n",
              " <keras.layers.core.dense.Dense at 0x7fac867c9310>,\n",
              " <keras.layers.core.dense.Dense at 0x7fac868e4910>]"
            ]
          },
          "execution_count": 103,
          "metadata": {},
          "output_type": "execute_result"
        }
      ],
      "source": [
        "model.layers"
      ]
    },
    {
      "cell_type": "code",
      "execution_count": null,
      "metadata": {
        "colab": {
          "base_uri": "https://localhost:8080/"
        },
        "id": "NpDGFc35xRfS",
        "outputId": "b0fddb7d-caf2-4095-e495-9b0e49d7bd8d"
      },
      "outputs": [
        {
          "name": "stdout",
          "output_type": "stream",
          "text": [
            "(784, 400)\n",
            "(400,)\n"
          ]
        }
      ],
      "source": [
        "hidden_1 = model.layers[1]\n",
        "h1_weights, h1_bias = hidden_1.get_weights()\n",
        "print(h1_weights.shape)\n",
        "print(h1_bias.shape)"
      ]
    },
    {
      "cell_type": "code",
      "execution_count": null,
      "metadata": {
        "colab": {
          "base_uri": "https://localhost:8080/"
        },
        "id": "TkVlE76wxTta",
        "outputId": "723b81e0-2c65-4115-db94-dcef50800e3f"
      },
      "outputs": [
        {
          "data": {
            "text/plain": [
              "array([ 1.2654915e-02, -1.5845682e-02,  3.4271114e-02, -3.9477818e-02,  3.1371981e-02,  2.3055010e-02, -2.5329784e-02,  3.1434588e-02, -3.9901409e-02, -2.2468310e-02,  4.9554661e-02,  3.4894124e-03,\n",
              "       -4.7491185e-02,  5.9185050e-02,  3.0932941e-02, -6.8460256e-02, -4.4433463e-02,  7.1078621e-02, -3.4739278e-02,  1.4641672e-02, -5.3190216e-03,  6.5509133e-02, -6.5602347e-02,  2.3871660e-03,\n",
              "        6.3353084e-02,  3.1021126e-02,  9.0040267e-05, -4.8846662e-02, -2.7276844e-02,  3.8039126e-02,  9.9419653e-03, -6.8160623e-02,  4.1429460e-02,  2.6884444e-02, -4.4251435e-02,  1.5807696e-02,\n",
              "       -1.7401632e-02,  5.6037627e-02,  3.2307103e-02,  1.0726221e-02, -5.2380912e-02, -7.0128083e-02,  4.5229495e-02,  5.2268676e-02,  2.9779017e-02,  2.8879926e-02,  9.6869022e-03,  4.8516244e-03,\n",
              "        4.3664142e-02, -1.9411929e-02,  5.2049093e-02,  4.1389570e-02, -5.7615146e-02,  6.0845368e-02, -5.1727004e-02,  4.9778692e-02, -2.3002699e-02,  5.8443747e-02,  1.7840229e-02, -6.9948211e-02,\n",
              "        4.2635031e-02, -6.6161074e-02,  1.4954060e-03,  3.0198924e-02, -2.6435155e-02,  6.7149773e-03, -3.7689108e-02,  2.5749579e-02, -4.5759898e-02,  2.6719458e-02, -3.0112553e-02, -6.3607268e-02,\n",
              "       -1.1062302e-02,  4.9290195e-02,  4.3335699e-02,  7.0694320e-02,  6.6150881e-02, -7.0292503e-04,  3.7977941e-02,  5.6262426e-02, -5.7756558e-02,  6.2708013e-02, -3.4246489e-02, -2.1741405e-02,\n",
              "       -4.0140107e-02, -5.4290429e-02, -6.2832534e-02, -5.9171926e-02, -1.5153740e-02, -3.8234174e-02, -7.0945129e-02, -2.6658576e-02, -6.5974206e-02,  6.9950350e-02, -6.5537632e-02, -6.5135673e-02,\n",
              "       -1.6814679e-02,  2.1606967e-02,  5.9113137e-02, -3.4279380e-02, -6.8597049e-02,  4.3911502e-02,  4.1808128e-02, -2.6351482e-02,  4.1788079e-02,  1.2949429e-02,  1.2509733e-02,  4.2659812e-02,\n",
              "        3.5260022e-03,  3.0885398e-02,  2.6515178e-02,  2.5063306e-02, -5.4350004e-02, -5.2766472e-02, -5.8431953e-02,  6.0770802e-02,  6.5108709e-02,  2.1005996e-02, -4.4012059e-02,  5.0144017e-02,\n",
              "        1.9271076e-02, -2.4238959e-02,  5.9350900e-02,  2.0192079e-02,  9.1724917e-03, -1.1633046e-02,  4.4799931e-02, -4.4658929e-03, -6.8130158e-02,  4.3033913e-02, -9.2726126e-03,  6.6105090e-02,\n",
              "        4.2151205e-02,  1.7550662e-02, -4.3130316e-02,  4.5590550e-03,  3.4980692e-02,  1.5314907e-02, -1.4515210e-02, -6.9091551e-02, -3.8761791e-02,  5.7659373e-03, -5.4447643e-02,  6.4520039e-02,\n",
              "        4.3890506e-02, -2.3736581e-02, -1.3789311e-03,  1.7104924e-02,  3.3958606e-02, -5.9018783e-02,  4.4874467e-02, -5.1901788e-02, -2.2307500e-02, -1.4620274e-03,  1.9358955e-02,  7.8971684e-04,\n",
              "        7.0622303e-02, -2.1056898e-02, -3.6785912e-02,  6.8659447e-02,  6.3927747e-02, -1.8507782e-02, -5.4065138e-04,  4.5470826e-02,  5.5279873e-02, -4.7011890e-02, -4.4153929e-02,  1.5422359e-02,\n",
              "        1.7233759e-02,  4.8630163e-02,  5.5866100e-02,  2.4209686e-02,  6.4972423e-02, -2.4075534e-02,  2.5231518e-02,  2.0385340e-02, -5.9135094e-02, -3.4881946e-02,  6.4016506e-03,  1.8058479e-02,\n",
              "        1.2338974e-02, -4.4263028e-02, -6.3915983e-02,  5.7838954e-02,  1.7836243e-02,  1.8742166e-02,  5.1189378e-02, -3.9862491e-02,  4.9326248e-02, -1.1428785e-02,  1.8755883e-02,  5.9894331e-02,\n",
              "       -5.3994283e-02, -5.7875060e-02, -6.0480639e-02,  6.6497140e-02,  2.6080437e-02, -2.3591876e-02,  6.8833806e-02, -6.0726859e-02, -6.3009150e-02, -8.5871220e-03,  3.9794266e-02, -8.6083338e-03,\n",
              "        6.0276754e-02, -8.1418529e-03, -4.5025572e-02,  1.6991019e-02,  3.3337168e-02, -3.4379788e-02,  1.0957941e-03,  2.0313397e-02,  1.1561289e-02, -5.9385963e-02,  5.3954057e-02,  2.2602461e-02,\n",
              "        5.2192047e-02,  4.2453274e-02, -3.3633620e-02,  4.1461267e-02,  2.1408126e-03,  3.0680582e-02, -3.4849428e-02,  3.3982024e-03,  9.0691298e-03, -6.9593303e-02,  4.6716183e-02,  6.4673327e-02,\n",
              "       -2.5701884e-02, -8.4873289e-04,  7.9179555e-03,  8.2591996e-03,  4.7563098e-02, -4.9401872e-02, -1.2136716e-02,  2.4203762e-02,  5.2000634e-02, -4.0873647e-02,  5.6528084e-02,  3.3054627e-02,\n",
              "       -2.5854059e-02, -2.3324307e-02, -2.0429146e-02,  2.7190186e-02,  1.7095059e-02,  1.5707016e-03,  6.6514648e-02, -1.4406368e-03,  4.1042894e-02, -1.3296057e-02,  2.3415007e-02,  3.5486750e-02,\n",
              "        4.1787773e-02,  6.4346977e-02, -3.4982387e-02,  1.2664974e-02, -5.2598208e-02,  6.7145415e-02,  1.4188543e-02,  5.7049446e-02,  4.9098730e-03, -6.9318086e-02, -5.6000181e-02,  5.3998761e-02,\n",
              "       -6.7000009e-02, -4.0331706e-03,  6.3780300e-02,  3.0979007e-02,  6.2348105e-02, -2.2258535e-02, -1.8961180e-02, -3.4331419e-02,  4.8671663e-04, -2.9870205e-02,  4.7257207e-02,  1.7026730e-02,\n",
              "        6.8727113e-02, -4.8181295e-02, -5.8262721e-03,  2.5951870e-02,  1.2155727e-02, -4.6726979e-02, -2.4443273e-02, -2.7889356e-02,  7.1361437e-03,  6.9634147e-02, -2.4731681e-03,  1.1138134e-02,\n",
              "        2.3924805e-02,  3.7488192e-03,  2.6044779e-02, -2.5413930e-03,  6.2948860e-02, -4.6045572e-02, -1.2333456e-02,  5.3130463e-03, -4.6400465e-02,  4.8115700e-03,  1.0793120e-02,  1.3690829e-02,\n",
              "       -3.8020305e-02, -5.4163374e-02, -3.9988309e-02, -3.4522984e-02,  9.2137605e-04,  3.9381236e-03, -5.9373558e-02, -3.6045276e-02, -5.9344143e-02, -4.5278884e-02,  1.8802285e-02,  9.8578483e-03,\n",
              "       -3.0192491e-02,  6.4902224e-02,  3.9382279e-02, -5.9453562e-02, -2.7003046e-02,  2.9358268e-02,  4.8559383e-03,  9.3339831e-03,  6.2559284e-02, -6.9093265e-02,  7.6214969e-03, -6.7119204e-02,\n",
              "        1.5624158e-02, -2.0282865e-03, -6.4245984e-03,  1.9466206e-03,  1.3265833e-03,  6.2387459e-02, -5.7758067e-02,  4.3786816e-02,  2.8956965e-02, -4.7420003e-02,  3.4322664e-03,  5.9960850e-02,\n",
              "       -6.6834889e-02, -2.1916389e-02, -4.2372420e-03, -4.9000770e-02,  1.1207685e-02, -4.2260043e-02, -4.6632558e-02, -5.1298473e-02, -2.6582729e-02,  5.2447617e-02,  3.2452539e-02, -3.0826185e-02,\n",
              "       -4.9644202e-02, -3.4839500e-02,  5.3781532e-02, -3.8171649e-02, -3.1614140e-02, -2.4343051e-02, -5.9535965e-02,  7.0116900e-02, -1.3364270e-02,  8.1332773e-03, -6.6437587e-02, -6.5623134e-02,\n",
              "        6.9530457e-03, -2.7323160e-02,  5.8985054e-03,  1.7019384e-02,  1.6963609e-02, -2.7826607e-02, -1.6275659e-02,  4.1310750e-02,  5.4657526e-02,  4.6875022e-02,  4.3105960e-02, -5.2315317e-02,\n",
              "       -6.7102283e-02, -2.9218096e-02,  2.5573321e-02, -5.1689364e-02,  6.5768845e-02, -1.6844481e-02, -2.5396705e-02,  6.3556902e-02, -1.4771916e-02,  3.7841894e-02,  2.4357222e-02, -5.4802142e-02,\n",
              "        7.2854608e-03, -7.1045093e-02, -4.0901348e-02, -4.8869163e-02,  3.0642599e-02,  3.2380439e-02, -7.0206754e-02, -4.4794973e-02,  2.4973825e-03, -1.3004016e-02, -6.9887482e-02, -5.7190821e-02,\n",
              "       -9.5433518e-03,  6.8785809e-02,  6.6484056e-02,  7.0998527e-02], dtype=float32)"
            ]
          },
          "execution_count": 105,
          "metadata": {},
          "output_type": "execute_result"
        }
      ],
      "source": [
        "h1_weights[0]"
      ]
    },
    {
      "cell_type": "code",
      "execution_count": null,
      "metadata": {
        "id": "ZkC10J1vxX3f"
      },
      "outputs": [],
      "source": [
        "model.compile(loss='sparse_categorical_crossentropy',\n",
        "             optimizer='sgd',\n",
        "             metrics=['accuracy'])"
      ]
    },
    {
      "cell_type": "code",
      "execution_count": null,
      "metadata": {
        "colab": {
          "base_uri": "https://localhost:8080/"
        },
        "id": "rgVti0xPxdbr",
        "outputId": "9f51bdee-cad2-444c-fc19-67c935563bc8"
      },
      "outputs": [
        {
          "name": "stdout",
          "output_type": "stream",
          "text": [
            "Epoch 1/30\n",
            "1719/1719 [==============================] - 10s 6ms/step - loss: 0.5903 - accuracy: 0.8498 - val_loss: 0.2561 - val_accuracy: 0.9296\n",
            "Epoch 2/30\n",
            "1719/1719 [==============================] - 10s 6ms/step - loss: 0.2880 - accuracy: 0.9180 - val_loss: 0.2051 - val_accuracy: 0.9408\n",
            "Epoch 3/30\n",
            "1719/1719 [==============================] - 9s 5ms/step - loss: 0.2354 - accuracy: 0.9328 - val_loss: 0.1689 - val_accuracy: 0.9558\n",
            "Epoch 4/30\n",
            "1719/1719 [==============================] - 9s 5ms/step - loss: 0.2008 - accuracy: 0.9425 - val_loss: 0.1511 - val_accuracy: 0.9592\n",
            "Epoch 5/30\n",
            "1719/1719 [==============================] - 9s 5ms/step - loss: 0.1746 - accuracy: 0.9499 - val_loss: 0.1352 - val_accuracy: 0.9642\n",
            "Epoch 6/30\n",
            "1719/1719 [==============================] - 10s 6ms/step - loss: 0.1537 - accuracy: 0.9566 - val_loss: 0.1240 - val_accuracy: 0.9658\n",
            "Epoch 7/30\n",
            "1719/1719 [==============================] - 10s 6ms/step - loss: 0.1376 - accuracy: 0.9601 - val_loss: 0.1098 - val_accuracy: 0.9706\n",
            "Epoch 8/30\n",
            "1719/1719 [==============================] - 10s 6ms/step - loss: 0.1237 - accuracy: 0.9649 - val_loss: 0.1032 - val_accuracy: 0.9732\n",
            "Epoch 9/30\n",
            "1719/1719 [==============================] - 10s 6ms/step - loss: 0.1121 - accuracy: 0.9681 - val_loss: 0.1003 - val_accuracy: 0.9732\n",
            "Epoch 10/30\n",
            "1719/1719 [==============================] - 11s 6ms/step - loss: 0.1019 - accuracy: 0.9715 - val_loss: 0.0923 - val_accuracy: 0.9756\n",
            "Epoch 11/30\n",
            "1719/1719 [==============================] - 10s 6ms/step - loss: 0.0941 - accuracy: 0.9729 - val_loss: 0.0917 - val_accuracy: 0.9760\n",
            "Epoch 12/30\n",
            "1719/1719 [==============================] - 11s 6ms/step - loss: 0.0866 - accuracy: 0.9754 - val_loss: 0.0870 - val_accuracy: 0.9776\n",
            "Epoch 13/30\n",
            "1719/1719 [==============================] - 10s 6ms/step - loss: 0.0796 - accuracy: 0.9779 - val_loss: 0.0902 - val_accuracy: 0.9754\n",
            "Epoch 14/30\n",
            "1719/1719 [==============================] - 10s 6ms/step - loss: 0.0741 - accuracy: 0.9791 - val_loss: 0.0839 - val_accuracy: 0.9800\n",
            "Epoch 15/30\n",
            "1719/1719 [==============================] - 11s 6ms/step - loss: 0.0688 - accuracy: 0.9809 - val_loss: 0.0783 - val_accuracy: 0.9804\n",
            "Epoch 16/30\n",
            "1719/1719 [==============================] - 10s 6ms/step - loss: 0.0643 - accuracy: 0.9818 - val_loss: 0.0768 - val_accuracy: 0.9808\n",
            "Epoch 17/30\n",
            "1719/1719 [==============================] - 10s 6ms/step - loss: 0.0598 - accuracy: 0.9836 - val_loss: 0.0747 - val_accuracy: 0.9808\n",
            "Epoch 18/30\n",
            "1719/1719 [==============================] - 10s 6ms/step - loss: 0.0559 - accuracy: 0.9846 - val_loss: 0.0747 - val_accuracy: 0.9808\n",
            "Epoch 19/30\n",
            "1719/1719 [==============================] - 10s 6ms/step - loss: 0.0526 - accuracy: 0.9863 - val_loss: 0.0736 - val_accuracy: 0.9812\n",
            "Epoch 20/30\n",
            "1719/1719 [==============================] - 10s 6ms/step - loss: 0.0491 - accuracy: 0.9873 - val_loss: 0.0724 - val_accuracy: 0.9810\n",
            "Epoch 21/30\n",
            "1719/1719 [==============================] - 10s 6ms/step - loss: 0.0461 - accuracy: 0.9881 - val_loss: 0.0712 - val_accuracy: 0.9808\n",
            "Epoch 22/30\n",
            "1719/1719 [==============================] - 10s 6ms/step - loss: 0.0431 - accuracy: 0.9891 - val_loss: 0.0712 - val_accuracy: 0.9820\n",
            "Epoch 23/30\n",
            "1719/1719 [==============================] - 10s 6ms/step - loss: 0.0405 - accuracy: 0.9900 - val_loss: 0.0719 - val_accuracy: 0.9804\n",
            "Epoch 24/30\n",
            "1719/1719 [==============================] - 10s 6ms/step - loss: 0.0382 - accuracy: 0.9906 - val_loss: 0.0685 - val_accuracy: 0.9812\n",
            "Epoch 25/30\n",
            "1719/1719 [==============================] - 10s 6ms/step - loss: 0.0361 - accuracy: 0.9912 - val_loss: 0.0688 - val_accuracy: 0.9812\n",
            "Epoch 26/30\n",
            "1719/1719 [==============================] - 10s 6ms/step - loss: 0.0338 - accuracy: 0.9918 - val_loss: 0.0680 - val_accuracy: 0.9814\n",
            "Epoch 27/30\n",
            "1719/1719 [==============================] - 10s 6ms/step - loss: 0.0317 - accuracy: 0.9927 - val_loss: 0.0695 - val_accuracy: 0.9818\n",
            "Epoch 28/30\n",
            "1719/1719 [==============================] - 9s 5ms/step - loss: 0.0299 - accuracy: 0.9931 - val_loss: 0.0681 - val_accuracy: 0.9820\n",
            "Epoch 29/30\n",
            "1719/1719 [==============================] - 9s 5ms/step - loss: 0.0284 - accuracy: 0.9936 - val_loss: 0.0641 - val_accuracy: 0.9834\n",
            "Epoch 30/30\n",
            "1719/1719 [==============================] - 10s 6ms/step - loss: 0.0267 - accuracy: 0.9942 - val_loss: 0.0664 - val_accuracy: 0.9830\n"
          ]
        }
      ],
      "source": [
        "# Creat checkpoint to save model at the end of each epoch:\n",
        "checkpoint_cb = keras.callbacks.ModelCheckpoint(\"my_keras_model.h5\", save_best_only=True)\n",
        "\n",
        "# Creat EarlyStopping checkpoint:\n",
        "early_stopping_cb = keras.callbacks.EarlyStopping(patience=10, restore_best_weights=True)\n",
        "\n",
        "\n",
        "history = model.fit(X_train, y_train,\n",
        "                    epochs=30,\n",
        "                    validation_split=5/60,\n",
        "                    callbacks=[checkpoint_cb, early_stopping_cb]) # batch_size ="
      ]
    },
    {
      "cell_type": "code",
      "execution_count": null,
      "metadata": {
        "colab": {
          "base_uri": "https://localhost:8080/",
          "height": 320
        },
        "id": "LGbGq_Csxf0f",
        "outputId": "334d82f4-2dc6-431b-ccdf-099cbdf87af8"
      },
      "outputs": [
        {
          "data": {
            "image/png": "[encoded data removed]",
            "text/plain": [
              "<Figure size 720x360 with 1 Axes>"
            ]
          },
          "metadata": {
            "needs_background": "light"
          },
          "output_type": "display_data"
        }
      ],
      "source": [
        "import pandas as pd\n",
        "import matplotlib.pyplot as plt\n",
        "\n",
        "learning_data = pd.DataFrame(history.history)\n",
        "# learning_data.head()\n",
        "learning_data.plot(figsize=(10,5))\n",
        "plt.grid(True)\n",
        "plt.show()"
      ]
    },
    {
      "cell_type": "code",
      "execution_count": null,
      "metadata": {
        "colab": {
          "base_uri": "https://localhost:8080/"
        },
        "id": "3G1lBHGKyfel",
        "outputId": "f0fbceeb-b1b1-49f7-a9bb-ed580541d9dd"
      },
      "outputs": [
        {
          "name": "stdout",
          "output_type": "stream",
          "text": [
            "313/313 [==============================] - 1s 3ms/step - loss: 0.0646 - accuracy: 0.9798\n"
          ]
        },
        {
          "data": {
            "text/plain": [
              "[0.06463407725095749, 0.9797999858856201]"
            ]
          },
          "execution_count": 109,
          "metadata": {},
          "output_type": "execute_result"
        }
      ],
      "source": [
        "model.evaluate(X_test/255, y_test)"
      ]
    },
    {
      "cell_type": "code",
      "execution_count": null,
      "metadata": {
        "colab": {
          "base_uri": "https://localhost:8080/"
        },
        "id": "owuGO8dEykF1",
        "outputId": "aa795b55-24ea-4ce6-9f82-75fff4d0d333"
      },
      "outputs": [
        {
          "data": {
            "text/plain": [
              "array([[0., 1., 0., 0., 0., 0., 0., 0., 0., 0.]], dtype=float32)"
            ]
          },
          "execution_count": 115,
          "metadata": {},
          "output_type": "execute_result"
        }
      ],
      "source": [
        "X_new = X_test[5].reshape(1,-1)\n",
        "y_pred = model.predict(X_new)\n",
        "y_pred"
      ]
    },
    {
      "cell_type": "code",
      "execution_count": null,
      "metadata": {
        "colab": {
          "base_uri": "https://localhost:8080/"
        },
        "id": "HHXKCFPxytk2",
        "outputId": "8123f8e9-c957-47d8-d12d-78fdc994ba8f"
      },
      "outputs": [
        {
          "name": "stdout",
          "output_type": "stream",
          "text": [
            "[[  0   0   0   0   0   0   0   0   0   0   0   0   0   0   0   0   0   0   0   0   0   0   0   0   0   0   0   0]\n",
            " [  0   0   0   0   0   0   0   0   0   0   0   0   0   0   0   0   0   0   0   0   0   0   0   0   0   0   0   0]\n",
            " [  0   0   0   0   0   0   0   0   0   0   0   0   0   0   0   0   0   0   0   0   0   0   0   0   0   0   0   0]\n",
            " [  0   0   0   0   0   0   0   0   0   0   0   0   0   0   0   0   0   0   0   0   0   0   0   0   0   0   0   0]\n",
            " [  0   0   0   0   0   0   0   0   0   0   0   0   0   0   0   0   0   0   0   0   0   0   0   0   0   0   0   0]\n",
            " [  0   0   0   0   0   0   0   0   0   0   0   0   0   0   0   0  77 254 107   3   0   0   0   0   0   0   0   0]\n",
            " [  0   0   0   0   0   0   0   0   0   0   0   0   0   0   0  19 227 254 254   9   0   0   0   0   0   0   0   0]\n",
            " [  0   0   0   0   0   0   0   0   0   0   0   0   0   0   0  81 254 254 165   1   0   0   0   0   0   0   0   0]\n",
            " [  0   0   0   0   0   0   0   0   0   0   0   0   0   0   7 203 254 254  73   0   0   0   0   0   0   0   0   0]\n",
            " [  0   0   0   0   0   0   0   0   0   0   0   0   0   0  53 254 254 250   0   0   0   0   0   0   0   0   0   0]\n",
            " [  0   0   0   0   0   0   0   0   0   0   0   0   0   0 134 254 254 180   0   0   0   0   0   0   0   0   0   0]\n",
            " [  0   0   0   0   0   0   0   0   0   0   0   0   0   0 196 254 248  48   0   0   0   0   0   0   0   0   0   0]\n",
            " [  0   0   0   0   0   0   0   0   0   0   0   0   0  58 254 254 237   0   0   0   0   0   0   0   0   0   0   0]\n",
            " [  0   0   0   0   0   0   0   0   0   0   0   0   0 111 254 254 132   0   0   0   0   0   0   0   0   0   0   0]\n",
            " [  0   0   0   0   0   0   0   0   0   0   0   0   0 163 254 238  28   0   0   0   0   0   0   0   0   0   0   0]\n",
            " [  0   0   0   0   0   0   0   0   0   0   0   0  60 252 254 223   0   0   0   0   0   0   0   0   0   0   0   0]\n",
            " [  0   0   0   0   0   0   0   0   0   0   0   0  79 254 254 154   0   0   0   0   0   0   0   0   0   0   0   0]\n",
            " [  0   0   0   0   0   0   0   0   0   0   0   0 163 254 238  53   0   0   0   0   0   0   0   0   0   0   0   0]\n",
            " [  0   0   0   0   0   0   0   0   0   0   0  28 252 254 210   0   0   0   0   0   0   0   0   0   0   0   0   0]\n",
            " [  0   0   0   0   0   0   0   0   0   0   0  86 254 254 131   0   0   0   0   0   0   0   0   0   0   0   0   0]\n",
            " [  0   0   0   0   0   0   0   0   0   0   0 105 254 234  20   0   0   0   0   0   0   0   0   0   0   0   0   0]\n",
            " [  0   0   0   0   0   0   0   0   0   0   0 175 254 204   5   0   0   0   0   0   0   0   0   0   0   0   0   0]\n",
            " [  0   0   0   0   0   0   0   0   0   0   5 211 254 196   0   0   0   0   0   0   0   0   0   0   0   0   0   0]\n",
            " [  0   0   0   0   0   0   0   0   0   0   3 158 254 160   0   0   0   0   0   0   0   0   0   0   0   0   0   0]\n",
            " [  0   0   0   0   0   0   0   0   0   0   0  26 157 107   0   0   0   0   0   0   0   0   0   0   0   0   0   0]\n",
            " [  0   0   0   0   0   0   0   0   0   0   0   0   0   0   0   0   0   0   0   0   0   0   0   0   0   0   0   0]\n",
            " [  0   0   0   0   0   0   0   0   0   0   0   0   0   0   0   0   0   0   0   0   0   0   0   0   0   0   0   0]\n",
            " [  0   0   0   0   0   0   0   0   0   0   0   0   0   0   0   0   0   0   0   0   0   0   0   0   0   0   0   0]]\n"
          ]
        }
      ],
      "source": [
        "print(X_test[5])\n"
      ]
    },
    {
      "cell_type": "code",
      "execution_count": null,
      "metadata": {
        "colab": {
          "base_uri": "https://localhost:8080/",
          "height": 265
        },
        "id": "rIv_0rC0zS-x",
        "outputId": "3497a57a-943a-4f64-8d69-1d444adf81c8"
      },
      "outputs": [
        {
          "data": {
            "image/png": "[encoded data removed]",
            "text/plain": [
              "<Figure size 432x288 with 1 Axes>"
            ]
          },
          "metadata": {
            "needs_background": "light"
          },
          "output_type": "display_data"
        }
      ],
      "source": [
        "plt.imshow(X_test[5], cmap=plt.cm.binary)\n",
        "plt.show()"
      ]
    },
    {
      "cell_type": "code",
      "execution_count": null,
      "metadata": {
        "colab": {
          "base_uri": "https://localhost:8080/"
        },
        "id": "MiIyvWR8zWxv",
        "outputId": "f584ec4c-fa89-46fc-8805-3154864ff1dd"
      },
      "outputs": [
        {
          "name": "stdout",
          "output_type": "stream",
          "text": [
            "actual values 1\n",
            "predicted values [1]\n"
          ]
        },
        {
          "data": {
            "text/plain": [
              "array(['one'], dtype='<U5')"
            ]
          },
          "execution_count": 118,
          "metadata": {},
          "output_type": "execute_result"
        }
      ],
      "source": [
        "y_pred = np.argmax(model.predict(X_new), axis=-1)\n",
        "print('actual values', y_test[5])\n",
        "print('predicted values', y_pred)\n",
        "class_name[y_pred[:]]\n"
      ]
    },
    {
      "cell_type": "code",
      "execution_count": null,
      "metadata": {
        "id": "XdL0JKUhzZIl"
      },
      "outputs": [],
      "source": [
        "# with cnn"
      ]
    },
    {
      "cell_type": "markdown",
      "source": [
        "# With CNN"
      ],
      "metadata": {
        "id": "S74HIntjSnso"
      }
    },
    {
      "cell_type": "code",
      "execution_count": null,
      "metadata": {
        "colab": {
          "base_uri": "https://localhost:8080/"
        },
        "id": "WKuFrNe89cNp",
        "outputId": "e3ccb145-870d-4ec5-b115-daa0f96e15c7"
      },
      "outputs": [
        {
          "name": "stdout",
          "output_type": "stream",
          "text": [
            "Downloading data from https://storage.googleapis.com/tensorflow/tf-keras-datasets/mnist.npz\n",
            "11493376/11490434 [==============================] - 0s 0us/step\n",
            "11501568/11490434 [==============================] - 0s 0us/step\n"
          ]
        }
      ],
      "source": [
        "from keras.datasets import mnist\n",
        "#download mnist data and split into train and test sets\n",
        "(X_train, y_train), (X_test, y_test) = mnist.load_data()"
      ]
    },
    {
      "cell_type": "code",
      "execution_count": null,
      "metadata": {
        "colab": {
          "base_uri": "https://localhost:8080/",
          "height": 283
        },
        "id": "zd5i783w-Hux",
        "outputId": "37607c5b-d142-4f50-c460-21c83ec9ff16"
      },
      "outputs": [
        {
          "data": {
            "text/plain": [
              "<matplotlib.image.AxesImage at 0x7f1d95e85190>"
            ]
          },
          "execution_count": 9,
          "metadata": {},
          "output_type": "execute_result"
        },
        {
          "data": {
            "image/png": "[encoded data removed]",
            "text/plain": [
              "<Figure size 432x288 with 1 Axes>"
            ]
          },
          "metadata": {
            "needs_background": "light"
          },
          "output_type": "display_data"
        }
      ],
      "source": [
        "import matplotlib.pyplot as plt\n",
        "#plot the first image in the dataset\n",
        "plt.imshow(X_train[0])"
      ]
    },
    {
      "cell_type": "code",
      "execution_count": null,
      "metadata": {
        "colab": {
          "base_uri": "https://localhost:8080/"
        },
        "id": "rFi-kniM-IU_",
        "outputId": "2048b461-bfb4-4fd6-c6fc-0ffb23fc5888"
      },
      "outputs": [
        {
          "data": {
            "text/plain": [
              "(28, 28)"
            ]
          },
          "execution_count": 10,
          "metadata": {},
          "output_type": "execute_result"
        }
      ],
      "source": [
        "#check image shape\n",
        "X_train[0].shape"
      ]
    },
    {
      "cell_type": "code",
      "execution_count": null,
      "metadata": {
        "colab": {
          "base_uri": "https://localhost:8080/"
        },
        "id": "2xazyRL_-RrI",
        "outputId": "d90cf4e5-f3a6-401a-a15e-95927264a455"
      },
      "outputs": [
        {
          "name": "stdout",
          "output_type": "stream",
          "text": [
            "X_train shape:  (60000, 28, 28)\n",
            "X_test shape:  (10000, 28, 28)\n",
            "X data type:  uint8\n",
            "y_train shape:  (60000,)\n"
          ]
        }
      ],
      "source": [
        "print('X_train shape: ', X_train.shape)\n",
        "print('X_test shape: ', X_test.shape)\n",
        "print('X data type: ', X_train.dtype)\n",
        "print('y_train shape: ', y_train.shape)"
      ]
    },
    {
      "cell_type": "code",
      "execution_count": null,
      "metadata": {
        "id": "ntR-8j-L-jOF"
      },
      "outputs": [],
      "source": [
        "#reshape data to fit model\n",
        "X_train = X_train.reshape(60000,28,28,1)\n",
        "X_test = X_test.reshape(10000,28,28,1)"
      ]
    },
    {
      "cell_type": "markdown",
      "metadata": {
        "id": "nnm55awH_d_q"
      },
      "source": [
        "![image.png](data:image/png;base64,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)"
      ]
    },
    {
      "cell_type": "code",
      "execution_count": null,
      "metadata": {
        "colab": {
          "base_uri": "https://localhost:8080/"
        },
        "id": "bwRP1Cuh-8uc",
        "outputId": "d9afdbad-b385-4493-dfc7-6ec5d5e9f3f5"
      },
      "outputs": [
        {
          "data": {
            "text/plain": [
              "array([0., 0., 0., 0., 0., 1., 0., 0., 0., 0.], dtype=float32)"
            ]
          },
          "execution_count": 13,
          "metadata": {},
          "output_type": "execute_result"
        }
      ],
      "source": [
        "#from keras.utils import to_categorical\n",
        "from tensorflow.keras.utils import to_categorical\n",
        "#one-hot encode target column\n",
        "y_train = to_categorical(y_train)\n",
        "y_test = to_categorical(y_test)\n",
        "y_train[0]"
      ]
    },
    {
      "cell_type": "code",
      "execution_count": null,
      "metadata": {
        "id": "tY0yYYwm_XkM"
      },
      "outputs": [],
      "source": [
        "from keras.models import Sequential\n",
        "from keras.layers import Dense, Conv2D, Flatten, MaxPooling2D\n",
        "#from keras.utils import to_categorical\n",
        "#from tensorflow.keras.utils import to_categorical\n",
        "#create model\n",
        "model = Sequential()\n",
        "#add model layers\n",
        "model.add(Conv2D(10, kernel_size=3, activation='relu', input_shape=(28,28,1)))\n",
        "model.add(MaxPooling2D(2,2))\n",
        "model.add(Conv2D(15, kernel_size=3, activation='relu'))\n",
        "model.add(MaxPooling2D(2,2))\n",
        "model.add(Flatten())\n",
        "model.add(Dense(10, activation='softmax'))"
      ]
    },
    {
      "cell_type": "code",
      "execution_count": null,
      "metadata": {
        "id": "riYyl-kBDg6i"
      },
      "outputs": [],
      "source": [
        "#compile model using accuracy to measure model performance\n",
        "model.compile(optimizer='adam', loss='categorical_crossentropy', metrics=['accuracy'])"
      ]
    },
    {
      "cell_type": "code",
      "execution_count": null,
      "metadata": {
        "colab": {
          "base_uri": "https://localhost:8080/"
        },
        "id": "mwNl_0O0ES-9",
        "outputId": "b1be36f9-53b8-4f46-f9e6-6326fbf57a57"
      },
      "outputs": [
        {
          "name": "stdout",
          "output_type": "stream",
          "text": [
            "Epoch 1/3\n",
            "1875/1875 [==============================] - 28s 15ms/step - loss: 0.7064 - accuracy: 0.8910 - val_loss: 0.1209 - val_accuracy: 0.9645\n",
            "Epoch 2/3\n",
            "1875/1875 [==============================] - 27s 15ms/step - loss: 0.1080 - accuracy: 0.9682 - val_loss: 0.1026 - val_accuracy: 0.9698\n",
            "Epoch 3/3\n",
            "1875/1875 [==============================] - 27s 15ms/step - loss: 0.0796 - accuracy: 0.9763 - val_loss: 0.0748 - val_accuracy: 0.9795\n"
          ]
        },
        {
          "data": {
            "text/plain": [
              "<keras.callbacks.History at 0x7fac7a583f10>"
            ]
          },
          "execution_count": 132,
          "metadata": {},
          "output_type": "execute_result"
        }
      ],
      "source": [
        "#train the model\n",
        "model.fit(X_train, y_train, validation_data=(X_test, y_test), epochs=3)"
      ]
    },
    {
      "cell_type": "code",
      "execution_count": null,
      "metadata": {
        "colab": {
          "base_uri": "https://localhost:8080/"
        },
        "id": "9OB46BnCEWKo",
        "outputId": "950bc9ee-a0ae-4de0-dcbf-a6fd9e384cf0"
      },
      "outputs": [
        {
          "data": {
            "text/plain": [
              "array([[2.7543034e-11, 2.0335465e-08, 7.0134242e-08, 1.8683059e-08, 1.6928045e-14, 3.7810075e-11, 5.6548802e-19, 9.9999988e-01, 4.3183937e-10, 7.1592949e-09],\n",
              "       [1.7708766e-08, 5.4574706e-05, 9.9994171e-01, 2.8506065e-06, 8.2889479e-10, 1.4758119e-12, 4.4109746e-07, 1.0252801e-08, 3.3189329e-07, 1.7589764e-12],\n",
              "       [1.2310757e-06, 9.9848467e-01, 1.3059675e-05, 2.1978184e-07, 8.6755597e-04, 3.4879292e-06, 1.5239387e-05, 3.8168546e-06, 6.1028689e-04, 4.3986830e-07],\n",
              "       [9.9985588e-01, 1.5277436e-09, 5.6826215e-05, 2.4804234e-07, 7.1823244e-08, 1.9787801e-06, 8.0817423e-05, 4.0804147e-09, 1.1131057e-07, 3.9302745e-06]], dtype=float32)"
            ]
          },
          "execution_count": 133,
          "metadata": {},
          "output_type": "execute_result"
        }
      ],
      "source": [
        "#predict first 4 images in the test set\n",
        "model.predict(X_test[:4])\n"
      ]
    },
    {
      "cell_type": "code",
      "execution_count": null,
      "metadata": {
        "colab": {
          "base_uri": "https://localhost:8080/"
        },
        "id": "9jfLhWAUEgoO",
        "outputId": "03af3eb4-1e1c-440d-d393-0e9af3664fdf"
      },
      "outputs": [
        {
          "data": {
            "text/plain": [
              "array([[0., 0., 0., 0., 0., 0., 0., 1., 0., 0.],\n",
              "       [0., 0., 1., 0., 0., 0., 0., 0., 0., 0.],\n",
              "       [0., 1., 0., 0., 0., 0., 0., 0., 0., 0.],\n",
              "       [1., 0., 0., 0., 0., 0., 0., 0., 0., 0.]], dtype=float32)"
            ]
          },
          "execution_count": 134,
          "metadata": {},
          "output_type": "execute_result"
        }
      ],
      "source": [
        "#actual results for first 4 images in test set\n",
        "y_test[:4]"
      ]
    },
    {
      "cell_type": "code",
      "execution_count": null,
      "metadata": {
        "colab": {
          "base_uri": "https://localhost:8080/"
        },
        "id": "B8jy2Bt3Es4L",
        "outputId": "1a463827-070c-4cb4-eb3d-8fe88d77e491"
      },
      "outputs": [
        {
          "name": "stdout",
          "output_type": "stream",
          "text": [
            "313/313 [==============================] - 2s 7ms/step - loss: 0.0748 - accuracy: 0.9795\n"
          ]
        },
        {
          "data": {
            "text/plain": [
              "[0.07484523952007294, 0.9794999957084656]"
            ]
          },
          "execution_count": 135,
          "metadata": {},
          "output_type": "execute_result"
        }
      ],
      "source": [
        "model.evaluate(X_test, y_test)"
      ]
    },
    {
      "cell_type": "code",
      "source": [],
      "metadata": {
        "id": "HqUgmVHDUpfi"
      },
      "execution_count": null,
      "outputs": []
    },
    {
      "cell_type": "code",
      "source": [],
      "metadata": {
        "id": "Fmn65eHLUpZ-"
      },
      "execution_count": null,
      "outputs": []
    },
    {
      "cell_type": "code",
      "source": [],
      "metadata": {
        "id": "9N1QXdGHUpUk"
      },
      "execution_count": null,
      "outputs": []
    },
    {
      "cell_type": "code",
      "execution_count": null,
      "metadata": {
        "id": "wfROwF2wE0Fq"
      },
      "outputs": [],
      "source": [
        "#working on cifar10 data set\n",
        "#first by dense method"
      ]
    },
    {
      "cell_type": "code",
      "execution_count": null,
      "metadata": {
        "colab": {
          "base_uri": "https://localhost:8080/"
        },
        "id": "Ok6gFHwnHJHH",
        "outputId": "73e5db1d-b57a-48bf-de05-d1f45eaa5ffa"
      },
      "outputs": [
        {
          "name": "stdout",
          "output_type": "stream",
          "text": [
            "Downloading data from https://www.cs.toronto.edu/~kriz/cifar-10-python.tar.gz\n",
            "170500096/170498071 [==============================] - 2s 0us/step\n",
            "170508288/170498071 [==============================] - 2s 0us/step\n"
          ]
        }
      ],
      "source": [
        "from keras.datasets import mnist ,cifar10\n",
        "#download mnist data and split into train and test sets\n",
        "(X_train, y_train), (X_test, y_test) = cifar10.load_data()"
      ]
    },
    {
      "cell_type": "code",
      "execution_count": null,
      "metadata": {
        "colab": {
          "base_uri": "https://localhost:8080/"
        },
        "id": "ehGIuEKpHJOm",
        "outputId": "124fe649-587b-4167-81ba-b26d0530a6cb"
      },
      "outputs": [
        {
          "name": "stdout",
          "output_type": "stream",
          "text": [
            "X_train shape:  (50000, 32, 32, 3)\n",
            "X_test shape:  (10000, 32, 32, 3)\n",
            "X data type:  uint8\n",
            "y_train shape:  (50000, 1)\n"
          ]
        }
      ],
      "source": [
        "print('X_train shape: ', X_train.shape)\n",
        "print('X_test shape: ', X_test.shape)\n",
        "print('X data type: ', X_train.dtype)\n",
        "print('y_train shape: ', y_train.shape)"
      ]
    },
    {
      "cell_type": "code",
      "execution_count": null,
      "metadata": {
        "colab": {
          "base_uri": "https://localhost:8080/"
        },
        "id": "xV8T4TjUHJdS",
        "outputId": "4b93c278-31c5-48f3-e39f-f6aa394896d3"
      },
      "outputs": [
        {
          "data": {
            "text/plain": [
              "(32, 32, 3)"
            ]
          },
          "execution_count": 18,
          "metadata": {},
          "output_type": "execute_result"
        }
      ],
      "source": [
        "X_train[1].shape"
      ]
    },
    {
      "cell_type": "code",
      "execution_count": null,
      "metadata": {
        "colab": {
          "base_uri": "https://localhost:8080/"
        },
        "id": "gDERtnhgI6GT",
        "outputId": "d84daeb6-4de6-4dbc-8b94-d78a80f73b11"
      },
      "outputs": [
        {
          "data": {
            "text/plain": [
              "(32, 3)"
            ]
          },
          "execution_count": 19,
          "metadata": {},
          "output_type": "execute_result"
        }
      ],
      "source": [
        "X_train[1][0].shape"
      ]
    },
    {
      "cell_type": "code",
      "execution_count": null,
      "metadata": {
        "colab": {
          "base_uri": "https://localhost:8080/",
          "height": 1000
        },
        "id": "_Mg8W73NI8em",
        "outputId": "93316a33-adae-4498-d67a-cb53b73a415b"
      },
      "outputs": [
        {
          "data": {
            "image/png": "[encoded data removed]",
            "text/plain": [
              "<Figure size 432x288 with 1 Axes>"
            ]
          },
          "metadata": {
            "needs_background": "light"
          },
          "output_type": "display_data"
        },
        {
          "name": "stdout",
          "output_type": "stream",
          "text": [
            "[[[154 177 187]\n",
            "  [126 137 136]\n",
            "  [105 104  95]\n",
            "  ...\n",
            "  [ 91  95  71]\n",
            "  [ 87  90  71]\n",
            "  [ 79  81  70]]\n",
            "\n",
            " [[140 160 169]\n",
            "  [145 153 154]\n",
            "  [125 125 118]\n",
            "  ...\n",
            "  [ 96  99  78]\n",
            "  [ 77  80  62]\n",
            "  [ 71  73  61]]\n",
            "\n",
            " [[140 155 164]\n",
            "  [139 146 149]\n",
            "  [115 115 112]\n",
            "  ...\n",
            "  [ 79  82  64]\n",
            "  [ 68  70  55]\n",
            "  [ 67  69  55]]\n",
            "\n",
            " ...\n",
            "\n",
            " [[175 167 166]\n",
            "  [156 154 160]\n",
            "  [154 160 170]\n",
            "  ...\n",
            "  [ 42  34  36]\n",
            "  [ 61  53  57]\n",
            "  [ 93  83  91]]\n",
            "\n",
            " [[165 154 128]\n",
            "  [156 152 130]\n",
            "  [159 161 142]\n",
            "  ...\n",
            "  [103  93  96]\n",
            "  [123 114 120]\n",
            "  [131 121 131]]\n",
            "\n",
            " [[163 148 120]\n",
            "  [158 148 122]\n",
            "  [163 156 133]\n",
            "  ...\n",
            "  [143 133 139]\n",
            "  [143 134 142]\n",
            "  [143 133 144]]]\n"
          ]
        }
      ],
      "source": [
        "import matplotlib.pyplot as plt\n",
        "np.set_printoptions(linewidth=200)\n",
        "plt.imshow(X_train[1], cmap=plt.cm.binary)\n",
        "plt.show()\n",
        "print(X_train[1])"
      ]
    },
    {
      "cell_type": "code",
      "execution_count": null,
      "metadata": {
        "id": "Fq23Ae78KAHG"
      },
      "outputs": [],
      "source": [
        "X_train = X_train/255"
      ]
    },
    {
      "cell_type": "code",
      "execution_count": null,
      "metadata": {
        "colab": {
          "base_uri": "https://localhost:8080/"
        },
        "id": "fezQu5xLKIGY",
        "outputId": "e641c4b5-055f-4a7f-b710-16ec65172769"
      },
      "outputs": [
        {
          "data": {
            "text/plain": [
              "array([[[0.60392157, 0.69411765, 0.73333333],\n",
              "        [0.49411765, 0.5372549 , 0.53333333],\n",
              "        [0.41176471, 0.40784314, 0.37254902],\n",
              "        ...,\n",
              "        [0.35686275, 0.37254902, 0.27843137],\n",
              "        [0.34117647, 0.35294118, 0.27843137],\n",
              "        [0.30980392, 0.31764706, 0.2745098 ]],\n",
              "\n",
              "       [[0.54901961, 0.62745098, 0.6627451 ],\n",
              "        [0.56862745, 0.6       , 0.60392157],\n",
              "        [0.49019608, 0.49019608, 0.4627451 ],\n",
              "        ...,\n",
              "        [0.37647059, 0.38823529, 0.30588235],\n",
              "        [0.30196078, 0.31372549, 0.24313725],\n",
              "        [0.27843137, 0.28627451, 0.23921569]],\n",
              "\n",
              "       [[0.54901961, 0.60784314, 0.64313725],\n",
              "        [0.54509804, 0.57254902, 0.58431373],\n",
              "        [0.45098039, 0.45098039, 0.43921569],\n",
              "        ...,\n",
              "        [0.30980392, 0.32156863, 0.25098039],\n",
              "        [0.26666667, 0.2745098 , 0.21568627],\n",
              "        [0.2627451 , 0.27058824, 0.21568627]],\n",
              "\n",
              "       ...,\n",
              "\n",
              "       [[0.68627451, 0.65490196, 0.65098039],\n",
              "        [0.61176471, 0.60392157, 0.62745098],\n",
              "        [0.60392157, 0.62745098, 0.66666667],\n",
              "        ...,\n",
              "        [0.16470588, 0.13333333, 0.14117647],\n",
              "        [0.23921569, 0.20784314, 0.22352941],\n",
              "        [0.36470588, 0.3254902 , 0.35686275]],\n",
              "\n",
              "       [[0.64705882, 0.60392157, 0.50196078],\n",
              "        [0.61176471, 0.59607843, 0.50980392],\n",
              "        [0.62352941, 0.63137255, 0.55686275],\n",
              "        ...,\n",
              "        [0.40392157, 0.36470588, 0.37647059],\n",
              "        [0.48235294, 0.44705882, 0.47058824],\n",
              "        [0.51372549, 0.4745098 , 0.51372549]],\n",
              "\n",
              "       [[0.63921569, 0.58039216, 0.47058824],\n",
              "        [0.61960784, 0.58039216, 0.47843137],\n",
              "        [0.63921569, 0.61176471, 0.52156863],\n",
              "        ...,\n",
              "        [0.56078431, 0.52156863, 0.54509804],\n",
              "        [0.56078431, 0.5254902 , 0.55686275],\n",
              "        [0.56078431, 0.52156863, 0.56470588]]])"
            ]
          },
          "execution_count": 22,
          "metadata": {},
          "output_type": "execute_result"
        }
      ],
      "source": [
        "X_train[1]"
      ]
    },
    {
      "cell_type": "code",
      "execution_count": null,
      "metadata": {
        "id": "F91xcnTgKLkU"
      },
      "outputs": [],
      "source": [
        "class_name = np.array([\"airplane\", \"automobile\", \"bird\",\n",
        "                       \"cat\", \"deer\", \"dog\", \"frog\",\n",
        "                       \"horse\", \"ship\", \"truck\"])"
      ]
    },
    {
      "cell_type": "code",
      "execution_count": null,
      "metadata": {
        "colab": {
          "base_uri": "https://localhost:8080/"
        },
        "id": "z4vyNpCYLCmS",
        "outputId": "f2fe6f38-ecc3-4235-8c72-e3ecbea2bf08"
      },
      "outputs": [
        {
          "data": {
            "text/plain": [
              "(array([9], dtype=uint8), array(['truck'], dtype='<U10'))"
            ]
          },
          "execution_count": 24,
          "metadata": {},
          "output_type": "execute_result"
        }
      ],
      "source": [
        "y_train[1], class_name[y_train[1]]"
      ]
    },
    {
      "cell_type": "code",
      "execution_count": null,
      "metadata": {
        "id": "nqtsgmdWLSuC"
      },
      "outputs": [],
      "source": [
        "# Create Sequential Model\n",
        "model = keras.models.Sequential()\n",
        "\n",
        "# Adding our layers\n",
        "from tensorflow.keras import layers\n",
        "\n",
        "model.add(layers.Flatten(input_shape=X_train[0].shape, name='input'))\n",
        "model.add(layers.Dense(2000, activation='relu', name='hidden_1'))\n",
        "model.add(layers.Dense(1000, activation='relu', name='hidden_2'))\n",
        "model.add(layers.Dense(800, activation='relu', name='hidden_3'))\n",
        "model.add(layers.Dense(500, activation='relu', name='hidden_4'))\n",
        "model.add(layers.Dense(10, activation='softmax', name='output'))"
      ]
    },
    {
      "cell_type": "code",
      "execution_count": null,
      "metadata": {
        "colab": {
          "base_uri": "https://localhost:8080/"
        },
        "id": "_alPZur7LYv9",
        "outputId": "1bb8a417-3e49-42a0-a641-4cc81a48a5e5"
      },
      "outputs": [
        {
          "name": "stdout",
          "output_type": "stream",
          "text": [
            "Model: \"sequential_2\"\n",
            "_________________________________________________________________\n",
            " Layer (type)                Output Shape              Param #   \n",
            "=================================================================\n",
            " input (Flatten)             (None, 3072)              0         \n",
            "                                                                 \n",
            " hidden_1 (Dense)            (None, 2000)              6146000   \n",
            "                                                                 \n",
            " hidden_2 (Dense)            (None, 1000)              2001000   \n",
            "                                                                 \n",
            " hidden_3 (Dense)            (None, 800)               800800    \n",
            "                                                                 \n",
            " hidden_4 (Dense)            (None, 500)               400500    \n",
            "                                                                 \n",
            " output (Dense)              (None, 10)                5010      \n",
            "                                                                 \n",
            "=================================================================\n",
            "Total params: 9,353,310\n",
            "Trainable params: 9,353,310\n",
            "Non-trainable params: 0\n",
            "_________________________________________________________________\n"
          ]
        }
      ],
      "source": [
        "model.summary()\n"
      ]
    },
    {
      "cell_type": "code",
      "execution_count": null,
      "metadata": {
        "colab": {
          "base_uri": "https://localhost:8080/"
        },
        "id": "Lii3BHwjLbDf",
        "outputId": "dbcfc70f-0d72-43a4-e77c-d03b59b6307b"
      },
      "outputs": [
        {
          "data": {
            "text/plain": [
              "[<keras.layers.core.flatten.Flatten at 0x7f1d1c8ca410>,\n",
              " <keras.layers.core.dense.Dense at 0x7f1d1c8ca890>,\n",
              " <keras.layers.core.dense.Dense at 0x7f1d1c8ddfd0>,\n",
              " <keras.layers.core.dense.Dense at 0x7f1d1b1f9dd0>,\n",
              " <keras.layers.core.dense.Dense at 0x7f1d1c93cf50>,\n",
              " <keras.layers.core.dense.Dense at 0x7f1d1c928510>]"
            ]
          },
          "execution_count": 36,
          "metadata": {},
          "output_type": "execute_result"
        }
      ],
      "source": [
        "model.layers"
      ]
    },
    {
      "cell_type": "code",
      "execution_count": null,
      "metadata": {
        "colab": {
          "base_uri": "https://localhost:8080/"
        },
        "id": "N1AKDJIKLhJ7",
        "outputId": "f8132255-0b74-48ce-9c15-b4ef5ea4703a"
      },
      "outputs": [
        {
          "name": "stdout",
          "output_type": "stream",
          "text": [
            "(3072, 2000)\n",
            "(2000,)\n"
          ]
        }
      ],
      "source": [
        "hidden_1 = model.layers[1]\n",
        "h1_weights, h1_bias = hidden_1.get_weights()\n",
        "print(h1_weights.shape)\n",
        "print(h1_bias.shape)"
      ]
    },
    {
      "cell_type": "code",
      "execution_count": null,
      "metadata": {
        "id": "psgUHms7LjbJ"
      },
      "outputs": [],
      "source": [
        "model.compile(loss='sparse_categorical_crossentropy',\n",
        "             optimizer='adam',\n",
        "             metrics=['accuracy'])"
      ]
    },
    {
      "cell_type": "code",
      "execution_count": null,
      "metadata": {
        "colab": {
          "base_uri": "https://localhost:8080/"
        },
        "id": "eM_PX0alLm6q",
        "outputId": "c5ed18de-9a5f-44e8-ddb3-0a62a4c5d111"
      },
      "outputs": [
        {
          "name": "stdout",
          "output_type": "stream",
          "text": [
            "Epoch 1/30\n",
            "1433/1433 [==============================] - 13s 9ms/step - loss: 1.8942 - accuracy: 0.3065 - val_loss: 1.8184 - val_accuracy: 0.3295\n",
            "Epoch 2/30\n",
            "1433/1433 [==============================] - 12s 8ms/step - loss: 1.7301 - accuracy: 0.3750 - val_loss: 1.6959 - val_accuracy: 0.4065\n",
            "Epoch 3/30\n",
            "1433/1433 [==============================] - 12s 8ms/step - loss: 1.6483 - accuracy: 0.4037 - val_loss: 1.6463 - val_accuracy: 0.4176\n",
            "Epoch 4/30\n",
            "1433/1433 [==============================] - 12s 8ms/step - loss: 1.5870 - accuracy: 0.4281 - val_loss: 1.5834 - val_accuracy: 0.4399\n",
            "Epoch 5/30\n",
            "1433/1433 [==============================] - 11s 8ms/step - loss: 1.5411 - accuracy: 0.4457 - val_loss: 1.6135 - val_accuracy: 0.4255\n",
            "Epoch 6/30\n",
            "1433/1433 [==============================] - 12s 8ms/step - loss: 1.5115 - accuracy: 0.4559 - val_loss: 1.5496 - val_accuracy: 0.4454\n",
            "Epoch 7/30\n",
            "1433/1433 [==============================] - 12s 8ms/step - loss: 1.4780 - accuracy: 0.4685 - val_loss: 1.5342 - val_accuracy: 0.4596\n",
            "Epoch 8/30\n",
            "1433/1433 [==============================] - 11s 8ms/step - loss: 1.4465 - accuracy: 0.4754 - val_loss: 1.5443 - val_accuracy: 0.4500\n",
            "Epoch 9/30\n",
            "1433/1433 [==============================] - 12s 8ms/step - loss: 1.4235 - accuracy: 0.4861 - val_loss: 1.5129 - val_accuracy: 0.4540\n",
            "Epoch 10/30\n",
            "1433/1433 [==============================] - 12s 8ms/step - loss: 1.3890 - accuracy: 0.4976 - val_loss: 1.5090 - val_accuracy: 0.4684\n",
            "Epoch 11/30\n",
            "1433/1433 [==============================] - 12s 8ms/step - loss: 1.3685 - accuracy: 0.5067 - val_loss: 1.4798 - val_accuracy: 0.4802\n",
            "Epoch 12/30\n",
            "1433/1433 [==============================] - 12s 8ms/step - loss: 1.3375 - accuracy: 0.5183 - val_loss: 1.5121 - val_accuracy: 0.4737\n",
            "Epoch 13/30\n",
            "1433/1433 [==============================] - 12s 8ms/step - loss: 1.3112 - accuracy: 0.5263 - val_loss: 1.5123 - val_accuracy: 0.4677\n",
            "Epoch 14/30\n",
            "1433/1433 [==============================] - 11s 8ms/step - loss: 1.2837 - accuracy: 0.5337 - val_loss: 1.5149 - val_accuracy: 0.4862\n",
            "Epoch 15/30\n",
            "1433/1433 [==============================] - 12s 8ms/step - loss: 1.2610 - accuracy: 0.5419 - val_loss: 1.5272 - val_accuracy: 0.4670\n",
            "Epoch 16/30\n",
            "1433/1433 [==============================] - 12s 8ms/step - loss: 1.2286 - accuracy: 0.5524 - val_loss: 1.5345 - val_accuracy: 0.4752\n",
            "Epoch 17/30\n",
            "1433/1433 [==============================] - 12s 8ms/step - loss: 1.2044 - accuracy: 0.5609 - val_loss: 1.5327 - val_accuracy: 0.4872\n",
            "Epoch 18/30\n",
            "1433/1433 [==============================] - 12s 8ms/step - loss: 1.1727 - accuracy: 0.5721 - val_loss: 1.5964 - val_accuracy: 0.4819\n",
            "Epoch 19/30\n",
            "1433/1433 [==============================] - 12s 8ms/step - loss: 1.1447 - accuracy: 0.5811 - val_loss: 1.6068 - val_accuracy: 0.4699\n",
            "Epoch 20/30\n",
            "1433/1433 [==============================] - 11s 8ms/step - loss: 1.1150 - accuracy: 0.5935 - val_loss: 1.6234 - val_accuracy: 0.4689\n",
            "Epoch 21/30\n",
            "1433/1433 [==============================] - 12s 8ms/step - loss: 1.0906 - accuracy: 0.6023 - val_loss: 1.6364 - val_accuracy: 0.4776\n"
          ]
        }
      ],
      "source": [
        "# Creat checkpoint to save model at the end of each epoch:\n",
        "checkpoint_cb = keras.callbacks.ModelCheckpoint(\"my_keras_model.h5\", save_best_only=True)\n",
        "\n",
        "# Creat EarlyStopping checkpoint:\n",
        "early_stopping_cb = keras.callbacks.EarlyStopping(patience=10, restore_best_weights=True)\n",
        "\n",
        "\n",
        "history = model.fit(X_train, y_train,\n",
        "                    epochs=30,\n",
        "                    validation_split=5/60,\n",
        "                    callbacks=[checkpoint_cb, early_stopping_cb]) # batch_size ="
      ]
    },
    {
      "cell_type": "code",
      "execution_count": null,
      "metadata": {
        "colab": {
          "base_uri": "https://localhost:8080/",
          "height": 320
        },
        "id": "M1cbq0tCLpVj",
        "outputId": "01eccfc4-0756-4243-92c5-a192c1c5a25c"
      },
      "outputs": [
        {
          "data": {
            "image/png": "[encoded data removed]",
            "text/plain": [
              "<Figure size 720x360 with 1 Axes>"
            ]
          },
          "metadata": {
            "needs_background": "light"
          },
          "output_type": "display_data"
        }
      ],
      "source": [
        "import pandas as pd\n",
        "import matplotlib.pyplot as plt\n",
        "\n",
        "learning_data = pd.DataFrame(history.history)\n",
        "# learning_data.head()\n",
        "learning_data.plot(figsize=(10,5))\n",
        "plt.grid(True)\n",
        "plt.show()"
      ]
    },
    {
      "cell_type": "code",
      "execution_count": null,
      "metadata": {
        "colab": {
          "base_uri": "https://localhost:8080/"
        },
        "id": "QhpIZJZXOpuo",
        "outputId": "e5698980-62a7-490d-a194-a4a799c3c4df"
      },
      "outputs": [
        {
          "name": "stdout",
          "output_type": "stream",
          "text": [
            "313/313 [==============================] - 1s 5ms/step - loss: 1.4895 - accuracy: 0.4728\n"
          ]
        },
        {
          "data": {
            "text/plain": [
              "[1.4895066022872925, 0.47279998660087585]"
            ]
          },
          "execution_count": 41,
          "metadata": {},
          "output_type": "execute_result"
        }
      ],
      "source": [
        "model.evaluate(X_test/255, y_test)"
      ]
    },
    {
      "cell_type": "code",
      "execution_count": null,
      "metadata": {
        "colab": {
          "base_uri": "https://localhost:8080/"
        },
        "id": "51qbUTS0Op26",
        "outputId": "b050e6d9-6a3d-40ae-f7e8-04320b08c58d"
      },
      "outputs": [
        {
          "data": {
            "text/plain": [
              "array([[1.0243240e-37, 0.0000000e+00, 0.0000000e+00, 1.1896505e-09, 0.0000000e+00, 1.0000000e+00, 1.0267560e-32, 0.0000000e+00, 0.0000000e+00, 0.0000000e+00]], dtype=float32)"
            ]
          },
          "execution_count": 47,
          "metadata": {},
          "output_type": "execute_result"
        }
      ],
      "source": [
        "X_new = X_test[5].reshape(1,-1)\n",
        "y_pred = model.predict(X_new)\n",
        "y_pred"
      ]
    },
    {
      "cell_type": "code",
      "execution_count": null,
      "metadata": {
        "colab": {
          "base_uri": "https://localhost:8080/",
          "height": 266
        },
        "id": "ngdbiz9vOy_-",
        "outputId": "12dbec48-46f7-4267-bb58-4202c4aa965f"
      },
      "outputs": [
        {
          "data": {
            "image/png": "[encoded data removed]",
            "text/plain": [
              "<Figure size 432x288 with 1 Axes>"
            ]
          },
          "metadata": {
            "needs_background": "light"
          },
          "output_type": "display_data"
        }
      ],
      "source": [
        "plt.imshow(X_test[5], cmap=plt.cm.binary)\n",
        "plt.show()"
      ]
    },
    {
      "cell_type": "code",
      "execution_count": null,
      "metadata": {
        "colab": {
          "base_uri": "https://localhost:8080/"
        },
        "id": "BIq6NYOnO2nW",
        "outputId": "424fe448-f072-4bcb-c4f9-352931df5a49"
      },
      "outputs": [
        {
          "name": "stdout",
          "output_type": "stream",
          "text": [
            "actual values [6]\n",
            "predicted values [5]\n"
          ]
        },
        {
          "data": {
            "text/plain": [
              "array(['dog'], dtype='<U10')"
            ]
          },
          "execution_count": 49,
          "metadata": {},
          "output_type": "execute_result"
        }
      ],
      "source": [
        "y_pred = np.argmax(model.predict(X_new), axis=-1)\n",
        "print('actual values', y_test[5])\n",
        "print('predicted values', y_pred)\n",
        "class_name[y_pred[:]]\n"
      ]
    },
    {
      "cell_type": "code",
      "execution_count": null,
      "metadata": {
        "id": "hBdD-UltO2uD"
      },
      "outputs": [],
      "source": [
        "# using cnn"
      ]
    },
    {
      "cell_type": "code",
      "execution_count": null,
      "metadata": {
        "colab": {
          "base_uri": "https://localhost:8080/"
        },
        "id": "RQ6YkZlRV_EV",
        "outputId": "3e6566e2-6961-4a4d-c454-f547329c4317"
      },
      "outputs": [
        {
          "name": "stdout",
          "output_type": "stream",
          "text": [
            "X_train shape:  (50000, 32, 32, 3)\n",
            "X_test shape:  (10000, 32, 32, 3)\n",
            "X data type:  uint8\n",
            "y_train shape:  (50000, 1)\n"
          ]
        }
      ],
      "source": [
        "from keras.datasets import cifar10\n",
        "#download mnist data and split into train and test sets\n",
        "(X_train, y_train), (X_test, y_test) = cifar10.load_data()\n",
        "print('X_train shape: ', X_train.shape)\n",
        "print('X_test shape: ', X_test.shape)\n",
        "print('X data type: ', X_train.dtype)\n",
        "print('y_train shape: ', y_train.shape)"
      ]
    },
    {
      "cell_type": "code",
      "execution_count": null,
      "metadata": {
        "colab": {
          "base_uri": "https://localhost:8080/",
          "height": 284
        },
        "id": "mnkAbvHmWClc",
        "outputId": "8d8d3d30-2351-4676-a615-b4c45a08e788"
      },
      "outputs": [
        {
          "data": {
            "text/plain": [
              "<matplotlib.image.AxesImage at 0x7f1d18ab7f10>"
            ]
          },
          "execution_count": 77,
          "metadata": {},
          "output_type": "execute_result"
        },
        {
          "data": {
            "image/png": "[encoded data removed]",
            "text/plain": [
              "<Figure size 432x288 with 1 Axes>"
            ]
          },
          "metadata": {
            "needs_background": "light"
          },
          "output_type": "display_data"
        }
      ],
      "source": [
        "import matplotlib.pyplot as plt\n",
        "#plot the first image in the dataset\n",
        "plt.imshow(X_train[0])"
      ]
    },
    {
      "cell_type": "code",
      "execution_count": null,
      "metadata": {
        "colab": {
          "base_uri": "https://localhost:8080/"
        },
        "id": "wdijVIOfWFA8",
        "outputId": "96df0710-1819-4d22-feac-d631218a07ea"
      },
      "outputs": [
        {
          "data": {
            "text/plain": [
              "(32, 32, 3)"
            ]
          },
          "execution_count": 78,
          "metadata": {},
          "output_type": "execute_result"
        }
      ],
      "source": [
        "#check image shape\n",
        "X_train[0].shape"
      ]
    },
    {
      "cell_type": "code",
      "execution_count": null,
      "metadata": {
        "id": "hKqP5evUWHh-"
      },
      "outputs": [],
      "source": [
        "#reshape data to fit model\n",
        "X_train = X_train.reshape(50000,32,32,3)\n",
        "X_test = X_test.reshape(10000,32,32,3)"
      ]
    },
    {
      "cell_type": "code",
      "execution_count": null,
      "metadata": {
        "colab": {
          "base_uri": "https://localhost:8080/"
        },
        "id": "G8Kj-8s-WdN2",
        "outputId": "d35161c2-df1b-410f-babb-de1e7f69d79e"
      },
      "outputs": [
        {
          "data": {
            "text/plain": [
              "array([0., 0., 0., 0., 0., 0., 1., 0., 0., 0.], dtype=float32)"
            ]
          },
          "execution_count": 80,
          "metadata": {},
          "output_type": "execute_result"
        }
      ],
      "source": [
        "from keras.models import Sequential\n",
        "from keras.layers import Dense, Conv2D, Flatten, MaxPooling2D\n",
        "from tensorflow.keras.utils import to_categorical\n",
        "#one-hot encode target column\n",
        "y_train = to_categorical(y_train)\n",
        "y_test = to_categorical(y_test)\n",
        "y_train[0]"
      ]
    },
    {
      "cell_type": "code",
      "execution_count": null,
      "metadata": {
        "id": "7jYK9H82Wgza"
      },
      "outputs": [],
      "source": [
        "from keras.models import Sequential\n",
        "from keras.layers import Dense, Conv2D, Flatten, MaxPooling2D\n",
        "#from keras.utils import to_categorical\n",
        "#from tensorflow.keras.utils import to_categorical\n",
        "#create model\n",
        "model = Sequential()\n",
        "#add model layers\n",
        "model.add(Conv2D(20, kernel_size=3, activation='relu', input_shape=(32,32,3)))\n",
        "model.add(MaxPooling2D(2,2))\n",
        "model.add(Conv2D(15, kernel_size=3, activation='relu'))\n",
        "model.add(MaxPooling2D(2,2))\n",
        "model.add(Conv2D(10, kernel_size=3, activation='relu'))\n",
        "model.add(MaxPooling2D(2,2))\n",
        "model.add(Flatten())\n",
        "model.add(layers.Dense(2000, activation='relu', name='hidden_1'))\n",
        "model.add(layers.Dense(1000, activation='relu', name='hidden_2'))\n",
        "model.add(layers.Dense(800, activation='relu', name='hidden_3'))\n",
        "model.add(layers.Dense(500, activation='relu', name='hidden_4'))\n",
        "model.add(Dense(10, activation='softmax'))"
      ]
    },
    {
      "cell_type": "code",
      "execution_count": null,
      "metadata": {
        "id": "pkdFFGh7XBde"
      },
      "outputs": [],
      "source": [
        "#compile model using accuracy to measure model performance\n",
        "model.compile(optimizer='adam', loss='categorical_crossentropy', metrics=['accuracy'])"
      ]
    },
    {
      "cell_type": "code",
      "execution_count": null,
      "metadata": {
        "colab": {
          "base_uri": "https://localhost:8080/"
        },
        "id": "OZCljYm1aGFj",
        "outputId": "6df3a055-1ca7-4fa2-f890-fdadfb20b543"
      },
      "outputs": [
        {
          "name": "stdout",
          "output_type": "stream",
          "text": [
            "Epoch 1/30\n",
            "1433/1433 [==============================] - 15s 10ms/step - loss: 1.8645 - accuracy: 0.3300 - val_loss: 1.5938 - val_accuracy: 0.4060\n",
            "Epoch 2/30\n",
            "1433/1433 [==============================] - 14s 10ms/step - loss: 1.5467 - accuracy: 0.4380 - val_loss: 1.4617 - val_accuracy: 0.4653\n",
            "Epoch 3/30\n",
            "1433/1433 [==============================] - 14s 10ms/step - loss: 1.4342 - accuracy: 0.4818 - val_loss: 1.4447 - val_accuracy: 0.4819\n",
            "Epoch 4/30\n",
            "1433/1433 [==============================] - 14s 10ms/step - loss: 1.3641 - accuracy: 0.5104 - val_loss: 1.3118 - val_accuracy: 0.5344\n",
            "Epoch 5/30\n",
            "1433/1433 [==============================] - 14s 10ms/step - loss: 1.3069 - accuracy: 0.5360 - val_loss: 1.3321 - val_accuracy: 0.5272\n",
            "Epoch 6/30\n",
            "1433/1433 [==============================] - 14s 10ms/step - loss: 1.2567 - accuracy: 0.5508 - val_loss: 1.2794 - val_accuracy: 0.5512\n",
            "Epoch 7/30\n",
            "1433/1433 [==============================] - 14s 10ms/step - loss: 1.2202 - accuracy: 0.5683 - val_loss: 1.2210 - val_accuracy: 0.5628\n",
            "Epoch 8/30\n",
            "1433/1433 [==============================] - 14s 9ms/step - loss: 1.1861 - accuracy: 0.5801 - val_loss: 1.2311 - val_accuracy: 0.5680\n",
            "Epoch 9/30\n",
            "1433/1433 [==============================] - 14s 9ms/step - loss: 1.1648 - accuracy: 0.5861 - val_loss: 1.2219 - val_accuracy: 0.5721\n",
            "Epoch 10/30\n",
            "1433/1433 [==============================] - 14s 10ms/step - loss: 1.1341 - accuracy: 0.5975 - val_loss: 1.1910 - val_accuracy: 0.5820\n",
            "Epoch 11/30\n",
            "1433/1433 [==============================] - 13s 9ms/step - loss: 1.1119 - accuracy: 0.6072 - val_loss: 1.2022 - val_accuracy: 0.5858\n",
            "Epoch 12/30\n",
            "1433/1433 [==============================] - 14s 10ms/step - loss: 1.0866 - accuracy: 0.6160 - val_loss: 1.2957 - val_accuracy: 0.5745\n",
            "Epoch 13/30\n",
            "1433/1433 [==============================] - 14s 9ms/step - loss: 1.0710 - accuracy: 0.6238 - val_loss: 1.1995 - val_accuracy: 0.5896\n",
            "Epoch 14/30\n",
            "1433/1433 [==============================] - 14s 10ms/step - loss: 1.0462 - accuracy: 0.6306 - val_loss: 1.1595 - val_accuracy: 0.5988\n",
            "Epoch 15/30\n",
            "1433/1433 [==============================] - 14s 9ms/step - loss: 1.0271 - accuracy: 0.6361 - val_loss: 1.2402 - val_accuracy: 0.5740\n",
            "Epoch 16/30\n",
            "1433/1433 [==============================] - 14s 10ms/step - loss: 1.0105 - accuracy: 0.6447 - val_loss: 1.1917 - val_accuracy: 0.6007\n",
            "Epoch 17/30\n",
            "1433/1433 [==============================] - 13s 9ms/step - loss: 0.9879 - accuracy: 0.6507 - val_loss: 1.1675 - val_accuracy: 0.6007\n",
            "Epoch 18/30\n",
            "1433/1433 [==============================] - 14s 9ms/step - loss: 0.9728 - accuracy: 0.6562 - val_loss: 1.2078 - val_accuracy: 0.6002\n",
            "Epoch 19/30\n",
            "1433/1433 [==============================] - 14s 10ms/step - loss: 0.9520 - accuracy: 0.6640 - val_loss: 1.1885 - val_accuracy: 0.6208\n",
            "Epoch 20/30\n",
            "1433/1433 [==============================] - 14s 9ms/step - loss: 0.9352 - accuracy: 0.6699 - val_loss: 1.2365 - val_accuracy: 0.5971\n",
            "Epoch 21/30\n",
            "1433/1433 [==============================] - 14s 10ms/step - loss: 0.9189 - accuracy: 0.6754 - val_loss: 1.2483 - val_accuracy: 0.6062\n",
            "Epoch 22/30\n",
            "1433/1433 [==============================] - 14s 10ms/step - loss: 0.8957 - accuracy: 0.6852 - val_loss: 1.2563 - val_accuracy: 0.5944\n",
            "Epoch 23/30\n",
            "1433/1433 [==============================] - 14s 10ms/step - loss: 0.8763 - accuracy: 0.6897 - val_loss: 1.2573 - val_accuracy: 0.6103\n",
            "Epoch 24/30\n",
            "1433/1433 [==============================] - 14s 9ms/step - loss: 0.8798 - accuracy: 0.6917 - val_loss: 1.1961 - val_accuracy: 0.6204\n"
          ]
        }
      ],
      "source": [
        "# Creat checkpoint to save model at the end of each epoch:\n",
        "checkpoint_cb = keras.callbacks.ModelCheckpoint(\"my_keras_model.h5\", save_best_only=True)\n",
        "\n",
        "# Creat EarlyStopping checkpoint:\n",
        "early_stopping_cb = keras.callbacks.EarlyStopping(patience=10, restore_best_weights=True)\n",
        "\n",
        "\n",
        "history = model.fit(X_train, y_train,\n",
        "                    epochs=30,\n",
        "                    validation_split=5/60,\n",
        "                    callbacks=[checkpoint_cb, early_stopping_cb]) # batch_size ="
      ]
    },
    {
      "cell_type": "code",
      "execution_count": null,
      "metadata": {
        "colab": {
          "base_uri": "https://localhost:8080/",
          "height": 320
        },
        "id": "bM6O1yQ5bqau",
        "outputId": "2605463d-d1e9-4586-bd13-3f267c43e581"
      },
      "outputs": [
        {
          "data": {
            "image/png": "[encoded data removed]",
            "text/plain": [
              "<Figure size 720x360 with 1 Axes>"
            ]
          },
          "metadata": {
            "needs_background": "light"
          },
          "output_type": "display_data"
        }
      ],
      "source": [
        "import pandas as pd\n",
        "import matplotlib.pyplot as plt\n",
        "\n",
        "learning_data = pd.DataFrame(history.history)\n",
        "# learning_data.head()\n",
        "learning_data.plot(figsize=(10,5))\n",
        "plt.grid(True)\n",
        "plt.show()"
      ]
    },
    {
      "cell_type": "code",
      "execution_count": null,
      "metadata": {
        "colab": {
          "base_uri": "https://localhost:8080/"
        },
        "id": "glHQp71mXGf-",
        "outputId": "cbfbcde2-c0f2-4953-b68b-4eeba3c8ec4d"
      },
      "outputs": [
        {
          "name": "stdout",
          "output_type": "stream",
          "text": [
            "313/313 [==============================] - 2s 5ms/step - loss: 1.1645 - accuracy: 0.6003\n"
          ]
        },
        {
          "data": {
            "text/plain": [
              "[1.164473056793213, 0.6003000140190125]"
            ]
          },
          "execution_count": 85,
          "metadata": {},
          "output_type": "execute_result"
        }
      ],
      "source": [
        "model.evaluate(X_test, y_test)"
      ]
    },
    {
      "cell_type": "code",
      "execution_count": null,
      "metadata": {
        "id": "Qbn5yUNrZDi9"
      },
      "outputs": [],
      "source": []
    },
    {
      "cell_type": "code",
      "execution_count": null,
      "metadata": {
        "id": "NRyRYeagZENf"
      },
      "outputs": [],
      "source": []
    },
    {
      "cell_type": "code",
      "execution_count": null,
      "metadata": {
        "colab": {
          "base_uri": "https://localhost:8080/"
        },
        "id": "d0Vl1noYXJ_f",
        "outputId": "0bbcd2e6-18d2-44cf-c0c0-08da3445ac9e"
      },
      "outputs": [
        {
          "name": "stdout",
          "output_type": "stream",
          "text": [
            "313/313 [==============================] - 2s 5ms/step - loss: 2.0657 - accuracy: 0.5985\n"
          ]
        },
        {
          "data": {
            "text/plain": [
              "[2.065737009048462, 0.5985000133514404]"
            ]
          },
          "execution_count": 72,
          "metadata": {},
          "output_type": "execute_result"
        }
      ],
      "source": []
    },
    {
      "cell_type": "code",
      "execution_count": null,
      "metadata": {
        "id": "A6Q_XGwVZ7mN"
      },
      "outputs": [],
      "source": []
    }
  ],
  "metadata": {
    "accelerator": "GPU",
    "colab": {
      "provenance": []
    },
    "kernelspec": {
      "display_name": "Python 3",
      "language": "python",
      "name": "python3"
    },
    "language_info": {
      "codemirror_mode": {
        "name": "ipython",
        "version": 3
      },
      "file_extension": ".py",
      "mimetype": "text/x-python",
      "name": "python",
      "nbconvert_exporter": "python",
      "pygments_lexer": "ipython3",
      "version": "3.9.1"
    }
  },
  "nbformat": 4,
  "nbformat_minor": 0
}