{
 "cells": [
  {
   "cell_type": "code",
   "execution_count": 1,
   "metadata": {},
   "outputs": [
    {
     "name": "stdout",
     "output_type": "stream",
     "text": [
      "Osama\n",
      "Osama\n",
      "Mahmoud\n",
      "Mahmoud\n"
     ]
    }
   ],
   "source": [
    "# Assignment 1\n",
    "\n",
    "friends = [\"Osama\", \"Ahmed\", \"Sayed\", \"Ali\", \"Mahmoud\"]\n",
    "\n",
    "print(friends[0])\n",
    "print(friends.pop(0))\n",
    "\n",
    "print(friends[-1])\n",
    "print(friends.pop())\n",
    "\n",
    "# Needed Output\n",
    "# \"Osama\" => Method One\n",
    "# \"Osama\" => Method Two\n",
    "# \"Mahmoud\" => Method One\n",
    "# \"Mahmoud\" => Method Two"
   ]
  },
  {
   "cell_type": "code",
   "execution_count": 2,
   "metadata": {},
   "outputs": [
    {
     "name": "stdout",
     "output_type": "stream",
     "text": [
      "['Osama', 'Sayed', 'Mahmoud']\n",
      "['Ahmed', 'Ali']\n"
     ]
    }
   ],
   "source": [
    "# Assignment 2\n",
    "\n",
    "friends = [\"Osama\", \"Ahmed\", \"Sayed\", \"Ali\", \"Mahmoud\"]\n",
    "\n",
    "print(friends[::2])\n",
    "print(friends[1::2])\n",
    "\n",
    "# Needed Output\n",
    "# \"Osama\", \"Sayed\", \"Mahmoud\"\n",
    "# \"Ahmed\", \"Ali\""
   ]
  },
  {
   "cell_type": "code",
   "execution_count": 5,
   "metadata": {},
   "outputs": [
    {
     "name": "stdout",
     "output_type": "stream",
     "text": [
      "['Ahmed', 'Sayed', 'Ali']\n",
      "['Ali', 'Mahmoud']\n"
     ]
    }
   ],
   "source": [
    "# Assignment 3\n",
    "\n",
    "friends = [\"Osama\", \"Ahmed\", \"Sayed\", \"Ali\", \"Mahmoud\"]\n",
    "\n",
    "print(friends[1:4])\n",
    "print(friends[-2:])\n",
    "\n",
    "# Needed Output\n",
    "# \"Ahmed\", \"Sayed\", \"Ali\",\n",
    "# \"Ali\", \"Mahmoud\""
   ]
  },
  {
   "cell_type": "code",
   "execution_count": 8,
   "metadata": {},
   "outputs": [
    {
     "name": "stdout",
     "output_type": "stream",
     "text": [
      "['Osama', 'Ahmed', 'Sayed', 'Elzero', 'Elzero']\n"
     ]
    }
   ],
   "source": [
    "# Assignment 4\n",
    "\n",
    "friends = [\"Osama\", \"Ahmed\", \"Sayed\", \"Ali\", \"Mahmoud\"]\n",
    "\n",
    "friends[-2:] = [\"Elzero\", \"Elzero\"]\n",
    "print(friends)\n",
    "\n",
    "# Needed Output\n",
    "# [\"Osama\", \"Ahmed\", \"Sayed\", \"Elzero\", \"Elzero\"]"
   ]
  },
  {
   "cell_type": "code",
   "execution_count": 9,
   "metadata": {},
   "outputs": [
    {
     "name": "stdout",
     "output_type": "stream",
     "text": [
      "['Nasser', 'Osama', 'Ahmed', 'Sayed']\n",
      "['Nasser', 'Osama', 'Ahmed', 'Salem', 'Sayed']\n"
     ]
    }
   ],
   "source": [
    "# Assignment 5\n",
    "\n",
    "friends = [\"Osama\", \"Ahmed\", \"Sayed\"]\n",
    "\n",
    "friends.insert(0, \"Nasser\")\n",
    "print(friends)\n",
    "\n",
    "friends.insert(-1, \"Salem\")\n",
    "print(friends)\n",
    "\n",
    "# Needed Output\n",
    "# [\"Nasser\", \"Osama\", \"Ahmed\", \"Sayed\"]\n",
    "# [\"Nasser\", \"Osama\", \"Ahmed\", \"Sayed\", \"Salem\"]"
   ]
  },
  {
   "cell_type": "code",
   "execution_count": 11,
   "metadata": {},
   "outputs": [
    {
     "name": "stdout",
     "output_type": "stream",
     "text": [
      "['Ahmed', 'Sayed', 'Salem']\n",
      "['Ahmed', 'Sayed']\n"
     ]
    }
   ],
   "source": [
    "# Assignment 6\n",
    "\n",
    "friends = [\"Nasser\", \"Osama\", \"Ahmed\", \"Sayed\", \"Salem\"]\n",
    "\n",
    "friends[:2] = []\n",
    "print(friends)\n",
    "\n",
    "friends.pop()\n",
    "print(friends)\n",
    "\n",
    "# Needed Output\n",
    "# [\"Ahmed\", \"Sayed\", \"Salem\"]\n",
    "# [\"Ahmed\", \"Sayed\"]"
   ]
  },
  {
   "cell_type": "code",
   "execution_count": 13,
   "metadata": {},
   "outputs": [
    {
     "name": "stdout",
     "output_type": "stream",
     "text": [
      "['Ahmed', 'Sayed', 'Samah', 'Eman', 'Ramy', 'Shady']\n"
     ]
    }
   ],
   "source": [
    "# Assignment 7\n",
    "\n",
    "friends = [\"Ahmed\", \"Sayed\"]\n",
    "employees = [\"Samah\", \"Eman\"]\n",
    "school = [\"Ramy\", \"Shady\"]\n",
    "\n",
    "employees.extend(school)\n",
    "friends.extend(employees)\n",
    "print(friends)\n",
    "\n",
    "# Needed Output\n",
    "# [\"Ahmed\", \"Sayed\", \"Samah\", \"Eman\", \"Ramy\", \"Shady\"]"
   ]
  },
  {
   "cell_type": "code",
   "execution_count": 15,
   "metadata": {},
   "outputs": [
    {
     "name": "stdout",
     "output_type": "stream",
     "text": [
      "['Ahmed', 'Eman', 'Ramy', 'Samah', 'Sayed', 'Shady']\n",
      "['Shady', 'Sayed', 'Samah', 'Ramy', 'Eman', 'Ahmed']\n"
     ]
    }
   ],
   "source": [
    "# Assignment 8\n",
    "\n",
    "friends = [\"Ahmed\", \"Sayed\", \"Samah\", \"Eman\", \"Ramy\", \"Shady\"]\n",
    "\n",
    "friends.sort(reverse=False)\n",
    "print(friends)\n",
    "\n",
    "friends.sort(reverse=True)\n",
    "print(friends)\n",
    "\n",
    "# Needed Output\n",
    "# ['Ahmed', 'Eman', 'Ramy', 'Samah', 'Sayed', 'Shady']\n",
    "# ['Shady', 'Sayed', 'Samah', 'Ramy', 'Eman', 'Ahmed']"
   ]
  },
  {
   "cell_type": "code",
   "execution_count": 17,
   "metadata": {},
   "outputs": [
    {
     "name": "stdout",
     "output_type": "stream",
     "text": [
      "6\n"
     ]
    }
   ],
   "source": [
    "# Assignment 9\n",
    "\n",
    "friends = [\"Ahmed\", \"Sayed\", \"Samah\", \"Eman\", \"Ramy\", \"Shady\"]\n",
    "\n",
    "print(len(friends))\n",
    "\n",
    "# Needed Output\n",
    "# 6"
   ]
  },
  {
   "cell_type": "code",
   "execution_count": 18,
   "metadata": {},
   "outputs": [
    {
     "name": "stdout",
     "output_type": "stream",
     "text": [
      "Django\n",
      "Web\n"
     ]
    }
   ],
   "source": [
    "# Assignment 10\n",
    "\n",
    "technologies = [\"Html\", \"CSS\", \"JS\", \"Python\", [\"Django\", \"Flask\", \"Web\"]]\n",
    "\n",
    "print(technologies[4][0])\n",
    "print(technologies[4][-1])\n",
    "\n",
    "# Needed Output\n",
    "# Django\n",
    "# Web"
   ]
  },
  {
   "cell_type": "code",
   "execution_count": null,
   "metadata": {},
   "outputs": [],
   "source": []
  }
 ],
 "metadata": {
  "kernelspec": {
   "display_name": "Python 3",
   "language": "python",
   "name": "python3"
  },
  "language_info": {
   "codemirror_mode": {
    "name": "ipython",
    "version": 3
   },
   "file_extension": ".py",
   "mimetype": "text/x-python",
   "name": "python",
   "nbconvert_exporter": "python",
   "pygments_lexer": "ipython3",
   "version": "3.7.4"
  }
 },
 "nbformat": 4,
 "nbformat_minor": 2
}
