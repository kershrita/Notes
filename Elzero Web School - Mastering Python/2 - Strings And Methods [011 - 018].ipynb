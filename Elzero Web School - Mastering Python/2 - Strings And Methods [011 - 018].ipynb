{
 "cells": [
  {
   "cell_type": "code",
   "execution_count": 7,
   "metadata": {},
   "outputs": [
    {
     "name": "stdout",
     "output_type": "stream",
     "text": [
      "\"Hello 'Ashraf',How You Doing \\ \"\"\" Your Age Is \"19\"\" + And Your Country Is: Egypt\n"
     ]
    }
   ],
   "source": [
    "# Assignment 1\n",
    "\n",
    "name = \"Ashraf\"\n",
    "age = \"19\"\n",
    "country =\"Egypt\"\n",
    "\n",
    "print('\"Hello ' + \"'{}',\".format(name) + 'How You Doing \\ \"\"\" Your Age Is ' + '\"{}\"\" + '.format(age) + \"And Your Country Is: {}\".\n",
    "     format(country))\n",
    "\n",
    "# Output:\n",
    "# \"Hello 'Osama', How You Doing \\ \"\"\" Your Age Is \"38\"\" + And Your Country Is: Egypt"
   ]
  },
  {
   "cell_type": "code",
   "execution_count": 10,
   "metadata": {},
   "outputs": [
    {
     "name": "stdout",
     "output_type": "stream",
     "text": [
      "\"Hello 'Ashraf',How You Doing \\ \n",
      "\"\"\" Your Age Is \"19\"\" + \n",
      "And Your Country Is: Egypt\n"
     ]
    }
   ],
   "source": [
    "# Assignment 2\n",
    "\n",
    "print('\"Hello ' + \"'{}',\".format(name) + 'How You Doing \\ \\n\"\"\" Your Age Is ' + '\"{}\"\" + \\n'.format(age) + \"And Your Country Is: {}\".\n",
    "     format(country))\n",
    "\n",
    "# Output:\n",
    "# \"Hello 'Osama', How You Doing \\\n",
    "# \"\"\" Your Age Is \"38\"\" +\n",
    "# And Your Country Is: Egypt"
   ]
  },
  {
   "cell_type": "code",
   "execution_count": 12,
   "metadata": {},
   "outputs": [
    {
     "name": "stdout",
     "output_type": "stream",
     "text": [
      "Second Letterl\n",
      "Third Letterz\n",
      "Last Lettero\n"
     ]
    }
   ],
   "source": [
    "# Assignment 3\n",
    "\n",
    "name = \"Elzero\"\n",
    "print(\"Second Letter\" + name[1])\n",
    "print(\"Third Letter\" + name[2])\n",
    "print(\"Last Letter\" + name[-1])\n",
    "\n",
    "# Output:\n",
    "# Second Letter Is \"l\"\n",
    "# Third Letter Is \"z\"\n",
    "# Last Letter Is \"o\""
   ]
  },
  {
   "cell_type": "code",
   "execution_count": 21,
   "metadata": {
    "scrolled": true
   },
   "outputs": [
    {
     "name": "stdout",
     "output_type": "stream",
     "text": [
      "lze\n",
      "Ezr\n",
      "rzE\n"
     ]
    }
   ],
   "source": [
    "# Assignment 4\n",
    "\n",
    "name = \"Elzero\"\n",
    "print(name[1:4])\n",
    "print(name[0:-1:2])\n",
    "print(name[4::-2])\n",
    "\n",
    "\n",
    "# Output:\n",
    "# \"lze\"\n",
    "# \"Ezr\"\n",
    "# \"rzE\""
   ]
  },
  {
   "cell_type": "code",
   "execution_count": 25,
   "metadata": {},
   "outputs": [
    {
     "name": "stdout",
     "output_type": "stream",
     "text": [
      "Elzero\n"
     ]
    }
   ],
   "source": [
    "# Assignment 5\n",
    "\n",
    "name = \"#@#@Elzero#@#@\"\n",
    "print(name[4:10])\n",
    "\n",
    "# Output:\n",
    "# Elzero"
   ]
  },
  {
   "cell_type": "code",
   "execution_count": 27,
   "metadata": {},
   "outputs": [
    {
     "name": "stdout",
     "output_type": "stream",
     "text": [
      "0050\n",
      "0100\n",
      "0500\n",
      "1010\n"
     ]
    }
   ],
   "source": [
    "# Assignment 6\n",
    "\n",
    "num = \"50\"\n",
    "print(num.zfill(4))\n",
    "num = \"100\"\n",
    "print(num.zfill(4))\n",
    "num = \"500\"\n",
    "print(num.zfill(4))\n",
    "num = \"1010\"\n",
    "print(num.zfill(4))\n",
    "\n",
    "# Output:\n",
    "# 0009\n",
    "# 1010"
   ]
  },
  {
   "cell_type": "code",
   "execution_count": 29,
   "metadata": {},
   "outputs": [
    {
     "name": "stdout",
     "output_type": "stream",
     "text": [
      "@@@@@@@@@@@@@@Ashraf\n",
      "@@Ashraf_Abdulkhaliq\n"
     ]
    }
   ],
   "source": [
    "# Assignment 7\n",
    "\n",
    "name_one = \"Ashraf\"\n",
    "name_two = \"Ashraf_Abdulkhaliq\"\n",
    "\n",
    "print(name_one.rjust(20,\"@\"))\n",
    "print(name_two.rjust(20,\"@\"))\n",
    "\n",
    "# Output:\n",
    "# @@@@@@@@@@@@@@@Ahraf\n",
    "# @@@@@@@@Ashraf_Abdulkhaliq"
   ]
  },
  {
   "cell_type": "code",
   "execution_count": 30,
   "metadata": {},
   "outputs": [
    {
     "name": "stdout",
     "output_type": "stream",
     "text": [
      "osAMa\n",
      "OSAma\n"
     ]
    }
   ],
   "source": [
    "# Assignment 8\n",
    "\n",
    "name_one = \"OSamA\"\n",
    "name_two = \"osaMA\"\n",
    "\n",
    "print(name_one.swapcase())\n",
    "print(name_two.swapcase())\n",
    "\n",
    "# Output:\n",
    "# osAMa\n",
    "# OSAma"
   ]
  },
  {
   "cell_type": "code",
   "execution_count": 31,
   "metadata": {},
   "outputs": [
    {
     "name": "stdout",
     "output_type": "stream",
     "text": [
      "2\n"
     ]
    }
   ],
   "source": [
    "# Assignment 9\n",
    "\n",
    "msg = \"I Love Python And Although Love Elzero Web School\"\n",
    "print(msg.count(\"Love\"))\n",
    "\n",
    "# Output:\n",
    "# 2"
   ]
  },
  {
   "cell_type": "code",
   "execution_count": 32,
   "metadata": {},
   "outputs": [
    {
     "name": "stdout",
     "output_type": "stream",
     "text": [
      "2\n"
     ]
    }
   ],
   "source": [
    "# Assignment 10\n",
    "\n",
    "name = \"Elzero\"\n",
    "print(name.index(\"z\"))\n",
    "\n",
    "# Output:\n",
    "# 2"
   ]
  },
  {
   "cell_type": "code",
   "execution_count": 33,
   "metadata": {},
   "outputs": [
    {
     "name": "stdout",
     "output_type": "stream",
     "text": [
      "I Love Python And Although <3 Elzero Web School\n"
     ]
    }
   ],
   "source": [
    "# Assignment 11\n",
    "\n",
    "msg = \"I <3 Python And Although <3 Elzero Web School\"\n",
    "print(msg.replace(\"<3\", \"Love\", 1))\n",
    "\n",
    "# Output:\n",
    "# I Love Python And Although <3 Elzero Web School"
   ]
  },
  {
   "cell_type": "code",
   "execution_count": 34,
   "metadata": {},
   "outputs": [
    {
     "name": "stdout",
     "output_type": "stream",
     "text": [
      "I Love Python And Although Love Elzero Web School\n"
     ]
    }
   ],
   "source": [
    "# Assignment 12\n",
    "\n",
    "msg = \"I <3 Python And Although <3 Elzero Web School\"\n",
    "print(msg.replace(\"<3\", \"Love\"))\n",
    "\n",
    "# Output:\n",
    "# I Love Python And Although Love Elzero Web School"
   ]
  },
  {
   "cell_type": "code",
   "execution_count": 35,
   "metadata": {},
   "outputs": [
    {
     "name": "stdout",
     "output_type": "stream",
     "text": [
      "My Name Is Ashraf, And My Age Is 19, And My Country Is Egypt\n"
     ]
    }
   ],
   "source": [
    "# Assignment 13\n",
    "\n",
    "name = \"Ashraf\"\n",
    "age = 19\n",
    "country = \"Egypt\"\n",
    "\n",
    "print(f\"My Name Is {name}, And My Age Is {age}, And My Country Is {country}\")\n",
    "\n",
    "# Needed Output Using f\"\"\n",
    "# My Name Is Osama, And My Age Is 38, And My Country Is Egypt"
   ]
  },
  {
   "cell_type": "code",
   "execution_count": null,
   "metadata": {},
   "outputs": [],
   "source": []
  }
 ],
 "metadata": {
  "kernelspec": {
   "display_name": "Python 3",
   "language": "python",
   "name": "python3"
  },
  "language_info": {
   "codemirror_mode": {
    "name": "ipython",
    "version": 3
   },
   "file_extension": ".py",
   "mimetype": "text/x-python",
   "name": "python",
   "nbconvert_exporter": "python",
   "pygments_lexer": "ipython3",
   "version": "3.7.4"
  }
 },
 "nbformat": 4,
 "nbformat_minor": 2
}
